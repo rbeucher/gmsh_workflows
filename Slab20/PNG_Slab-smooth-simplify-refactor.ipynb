{
 "cells": [
  {
   "cell_type": "code",
   "execution_count": 5,
   "id": "aefeeb4b",
   "metadata": {},
   "outputs": [],
   "source": [
    "from netCDF4 import Dataset\n",
    "import numpy as np"
   ]
  },
  {
   "cell_type": "code",
   "execution_count": 22,
   "id": "eba77296",
   "metadata": {},
   "outputs": [],
   "source": [
    "filename='Slab2Distribute_Mar2018/him_slab2_dep_02.24.18.grd'\n",
    "nc_fid=Dataset(filename,'r')"
   ]
  },
  {
   "cell_type": "code",
   "execution_count": 23,
   "id": "b73bb857",
   "metadata": {},
   "outputs": [],
   "source": [
    "def extract_contour(dataset):\n",
    "    \n",
    "    from scipy.interpolate import NearestNDInterpolator\n",
    "    from skimage.filters import gaussian\n",
    "    from skimage import measure\n",
    "\n",
    "    x = dataset.variables['x'][:]\n",
    "    y = dataset.variables['y'][:]\n",
    "    z = dataset.variables[\"z\"][:]\n",
    "       \n",
    "    mask = z.mask\n",
    "    X, Y = np.meshgrid(x, y)\n",
    "    x = X[mask == False]\n",
    "    y = Y[mask == False]\n",
    "    z = z[mask == False]    \n",
    "    \n",
    "    interp = NearestNDInterpolator(list(zip(x, y)), z)\n",
    "    \n",
    "    values = np.where(mask, 0, 1) \n",
    "    for val in range(5):\n",
    "        values = gaussian(values, 3, preserve_range=True) \n",
    "    \n",
    "    # Contour should have length 1\n",
    "    contour = measure.find_contours(values, 0.5)\n",
    "    i = np.round(contour[0][:,0]).astype(\"int\")\n",
    "    j = np.round(contour[0][:,1]).astype(\"int\")\n",
    "         \n",
    "    cx = X[i,j]\n",
    "    cy = Y[i,j]\n",
    "    cz = interp(cx, cy)            \n",
    "                 \n",
    "    return cx, cy, cz\n",
    "\n",
    "\n",
    "def simplify_contour(x, y, z):\n",
    "    from shapely.geometry import LinearRing \n",
    "    contour = LinearRing(zip(x, y, z))\n",
    "    contour = contour.simplify(0.05)\n",
    "    return contour.coords.xy\n",
    "\n",
    "\n",
    "def get_interpolator(dataset):\n",
    "    from scipy.interpolate import interp2d, griddata\n",
    "    \n",
    "    x = dataset.variables['x'][:]\n",
    "    y = dataset.variables['y'][:]\n",
    "    z = dataset.variables[\"z\"][:]    \n",
    "    \n",
    "    X, Y = np.meshgrid(x, y)\n",
    "    xi = X[z.mask == False]\n",
    "    yi = Y[z.mask == False]\n",
    "    zi = z[z.mask == False]\n",
    "    \n",
    "    z = griddata((xi, yi), zi, (x[None,:], y[:,None]), method='nearest')\n",
    "    \n",
    "    return interp2d(x, y, z)\n",
    "    "
   ]
  },
  {
   "cell_type": "code",
   "execution_count": 24,
   "id": "4535b2a7",
   "metadata": {},
   "outputs": [],
   "source": [
    "xi, yi, zi = extract_contour(nc_fid)\n",
    "x1, y1 = simplify_contour(xi, yi, zi)\n",
    "f = get_interpolator(nc_fid)"
   ]
  },
  {
   "cell_type": "markdown",
   "id": "8f2345d7",
   "metadata": {},
   "source": [
    "## Mesh the extend of the slab\n"
   ]
  },
  {
   "cell_type": "code",
   "execution_count": 25,
   "id": "a5fafca7",
   "metadata": {},
   "outputs": [
    {
     "name": "stderr",
     "output_type": "stream",
     "text": [
      "Warning : Gmsh has aleady been initialized\n"
     ]
    }
   ],
   "source": [
    "\n",
    "import gmsh\n",
    "gmsh.initialize()\n",
    "gmsh.model.add(\"test\")\n",
    "\n",
    "#gmsh.option.setNumber(\"Mesh.MeshSizeMax\", 0.1)"
   ]
  },
  {
   "cell_type": "code",
   "execution_count": 26,
   "id": "31a1f972",
   "metadata": {},
   "outputs": [],
   "source": [
    "pts_list = []\n",
    "for idx in range(len(x1)-1):\n",
    "        pt = gmsh.model.geo.add_point(x1[idx], y1[idx], 0)\n",
    "        pts_list.append(pt)\n",
    "        \n",
    "if pts_list:\n",
    "    pts_list = pts_list + [pts_list[0]]\n",
    "    line_list = []\n",
    "    for idx in range(len(pts_list)-1):\n",
    "        pt1 = pts_list[idx]\n",
    "        pt2 = pts_list[idx+1]\n",
    "        line_list.append(gmsh.model.geo.add_line(pt1, pt2))"
   ]
  },
  {
   "cell_type": "code",
   "execution_count": 27,
   "id": "5e345d46",
   "metadata": {},
   "outputs": [
    {
     "data": {
      "text/plain": [
       "1"
      ]
     },
     "execution_count": 27,
     "metadata": {},
     "output_type": "execute_result"
    }
   ],
   "source": [
    "cl = gmsh.model.geo.add_curve_loop(line_list)\n",
    "gmsh.model.geo.add_plane_surface([cl])"
   ]
  },
  {
   "cell_type": "code",
   "execution_count": 28,
   "id": "884a3b62",
   "metadata": {},
   "outputs": [],
   "source": [
    "gmsh.model.geo.synchronize()"
   ]
  },
  {
   "cell_type": "code",
   "execution_count": 29,
   "id": "6a40d421",
   "metadata": {},
   "outputs": [
    {
     "name": "stdout",
     "output_type": "stream",
     "text": [
      "Info    : Meshing 1D...\n",
      "Info    : [  0%] Meshing curve 1 (Line)\n",
      "Info    : [ 10%] Meshing curve 2 (Line)\n",
      "Info    : [ 10%] Meshing curve 3 (Line)\n",
      "Info    : [ 10%] Meshing curve 4 (Line)\n",
      "Info    : [ 10%] Meshing curve 5 (Line)\n",
      "Info    : [ 20%] Meshing curve 6 (Line)\n",
      "Info    : [ 20%] Meshing curve 7 (Line)\n",
      "Info    : [ 20%] Meshing curve 8 (Line)\n",
      "Info    : [ 20%] Meshing curve 9 (Line)\n",
      "Info    : [ 30%] Meshing curve 10 (Line)\n",
      "Info    : [ 30%] Meshing curve 11 (Line)\n",
      "Info    : [ 30%] Meshing curve 12 (Line)\n",
      "Info    : [ 30%] Meshing curve 13 (Line)\n",
      "Info    : [ 40%] Meshing curve 14 (Line)\n",
      "Info    : [ 40%] Meshing curve 15 (Line)\n",
      "Info    : [ 40%] Meshing curve 16 (Line)\n",
      "Info    : [ 40%] Meshing curve 17 (Line)\n",
      "Info    : [ 40%] Meshing curve 18 (Line)\n",
      "Info    : [ 50%] Meshing curve 19 (Line)\n",
      "Info    : [ 50%] Meshing curve 20 (Line)\n",
      "Info    : [ 50%] Meshing curve 21 (Line)\n",
      "Info    : [ 50%] Meshing curve 22 (Line)\n",
      "Info    : [ 60%] Meshing curve 23 (Line)\n",
      "Info    : [ 60%] Meshing curve 24 (Line)\n",
      "Info    : [ 60%] Meshing curve 25 (Line)\n",
      "Info    : [ 60%] Meshing curve 26 (Line)\n",
      "Info    : [ 70%] Meshing curve 27 (Line)\n",
      "Info    : [ 70%] Meshing curve 28 (Line)\n",
      "Info    : [ 70%] Meshing curve 29 (Line)\n",
      "Info    : [ 70%] Meshing curve 30 (Line)\n",
      "Info    : [ 70%] Meshing curve 31 (Line)\n",
      "Info    : [ 80%] Meshing curve 32 (Line)\n",
      "Info    : [ 80%] Meshing curve 33 (Line)\n",
      "Info    : [ 80%] Meshing curve 34 (Line)\n",
      "Info    : [ 80%] Meshing curve 35 (Line)\n",
      "Info    : [ 90%] Meshing curve 36 (Line)\n",
      "Info    : [ 90%] Meshing curve 37 (Line)\n",
      "Info    : [ 90%] Meshing curve 38 (Line)\n",
      "Info    : [ 90%] Meshing curve 39 (Line)\n",
      "Info    : [100%] Meshing curve 40 (Line)\n",
      "Info    : [100%] Meshing curve 41 (Line)\n",
      "Info    : [100%] Meshing curve 42 (Line)\n",
      "Info    : [100%] Meshing curve 43 (Line)\n",
      "Info    : Done meshing 1D (Wall 0.0108434s, CPU 0.017568s)\n",
      "Info    : Meshing 2D...\n",
      "Info    : Meshing surface 1 (Plane, Frontal-Delaunay)\n",
      "Info    : Done meshing 2D (Wall 0.00670856s, CPU 0.007237s)\n",
      "Info    : 89 nodes 219 elements\n"
     ]
    }
   ],
   "source": [
    "gmsh.model.mesh.generate(2)"
   ]
  },
  {
   "cell_type": "code",
   "execution_count": 30,
   "id": "895b20f2",
   "metadata": {},
   "outputs": [],
   "source": [
    "#gmsh.fltk.run()"
   ]
  },
  {
   "cell_type": "markdown",
   "id": "8c6a9b9a",
   "metadata": {},
   "source": [
    "## Advect Mesh in the z-direction"
   ]
  },
  {
   "cell_type": "markdown",
   "id": "8fbba5e4",
   "metadata": {},
   "source": [
    "### Extract Nodes and elements"
   ]
  },
  {
   "cell_type": "code",
   "execution_count": 31,
   "id": "b0feb4f3",
   "metadata": {},
   "outputs": [],
   "source": [
    "nodeTags = {}\n",
    "nodeCoords = {}\n",
    "elementTypes = {}\n",
    "elementTags = {}\n",
    "elementNodeTags = {}"
   ]
  },
  {
   "cell_type": "code",
   "execution_count": 32,
   "id": "1f730e23",
   "metadata": {},
   "outputs": [],
   "source": [
    "entities = gmsh.model.get_entities()"
   ]
  },
  {
   "cell_type": "code",
   "execution_count": 33,
   "id": "965dcda3",
   "metadata": {},
   "outputs": [],
   "source": [
    "# get the nodes and elements\n",
    "for e in entities:\n",
    "    nodeTags[e], nodeCoords[e], _ = gmsh.model.mesh.getNodes(e[0], e[1])\n",
    "    elementTypes[e], elementTags[e], elementNodeTags[e] = gmsh.model.mesh.getElements(e[0], e[1])"
   ]
  },
  {
   "cell_type": "code",
   "execution_count": 34,
   "id": "53b7bb49",
   "metadata": {},
   "outputs": [],
   "source": [
    "gmsh.model.mesh.clear()"
   ]
  },
  {
   "cell_type": "markdown",
   "id": "36c2a513",
   "metadata": {},
   "source": [
    "### Advect and add elements"
   ]
  },
  {
   "cell_type": "code",
   "execution_count": 35,
   "id": "8ee2a17e",
   "metadata": {},
   "outputs": [],
   "source": [
    "import numpy as np\n",
    "import random\n",
    "import math\n",
    "\n",
    "for e in entities: \n",
    "    for i in range(2, len(nodeCoords[e]), 3):\n",
    "        ii = nodeCoords[e][i-2]\n",
    "        jj = nodeCoords[e][i-1]\n",
    "        nodeCoords[e][i] = 0.05 * f(ii, jj)\n",
    "    gmsh.model.mesh.addNodes(e[0], e[1], nodeTags[e], nodeCoords[e])\n",
    "    gmsh.model.mesh.addElements(e[0], e[1], elementTypes[e], elementTags[e],\n",
    "                               elementNodeTags[e])"
   ]
  },
  {
   "cell_type": "code",
   "execution_count": 36,
   "id": "684b280a",
   "metadata": {},
   "outputs": [
    {
     "name": "stdout",
     "output_type": "stream",
     "text": [
      "Info    : Writing 'test.vtk'...\n",
      "Info    : Done writing 'test.vtk'\n"
     ]
    }
   ],
   "source": [
    "gmsh.write(\"test.vtk\")"
   ]
  },
  {
   "cell_type": "code",
   "execution_count": 37,
   "id": "1cb0af58",
   "metadata": {},
   "outputs": [
    {
     "name": "stdout",
     "output_type": "stream",
     "text": [
      "Info    : Writing 'test.msh'...\n",
      "Info    : Done writing 'test.msh'\n"
     ]
    }
   ],
   "source": [
    "gmsh.write(\"test.msh\")"
   ]
  },
  {
   "cell_type": "code",
   "execution_count": 39,
   "id": "e3010073",
   "metadata": {},
   "outputs": [
    {
     "name": "stdout",
     "output_type": "stream",
     "text": [
      "Info    : Reading 'test.msh'...\n",
      "Info    : 87 entities\n",
      "Info    : 89 nodes\n",
      "Info    : 219 elements\n",
      "Info    : Done reading 'test.msh'\n"
     ]
    }
   ],
   "source": [
    "gmsh.open(\"test.msh\")"
   ]
  },
  {
   "cell_type": "code",
   "execution_count": 38,
   "id": "88e21d3b",
   "metadata": {},
   "outputs": [],
   "source": [
    "#gmsh.fltk.run()"
   ]
  },
  {
   "cell_type": "code",
   "execution_count": null,
   "id": "e7e2c6f7",
   "metadata": {},
   "outputs": [],
   "source": []
  }
 ],
 "metadata": {
  "kernelspec": {
   "display_name": "Python 3 (ipykernel)",
   "language": "python",
   "name": "python3"
  },
  "language_info": {
   "codemirror_mode": {
    "name": "ipython",
    "version": 3
   },
   "file_extension": ".py",
   "mimetype": "text/x-python",
   "name": "python",
   "nbconvert_exporter": "python",
   "pygments_lexer": "ipython3",
   "version": "3.10.4"
  }
 },
 "nbformat": 4,
 "nbformat_minor": 5
}
