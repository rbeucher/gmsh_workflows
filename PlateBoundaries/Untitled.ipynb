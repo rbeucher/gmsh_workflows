{
 "cells": [
  {
   "cell_type": "code",
   "execution_count": null,
   "id": "241f9939",
   "metadata": {},
   "outputs": [],
   "source": [
    "Mesh.Algorithm = 6;\n",
    "\n",
    "lc = .55;\n",
    "Point(1) = {0.0,0.0,0.0,lc};\n",
    "Point(2) = {1,0.0,0.0,lc};\n",
    "Point(3) = {0,1,0.0,lc};\n",
    "Circle(1) = {2,1,3};\n",
    "Point(4) = {-1,0,0.0,lc};\n",
    "Point(5) = {0,-1,0.0,lc};\n",
    "Circle(2) = {3,1,4};\n",
    "Circle(3) = {4,1,5};\n",
    "Circle(4) = {5,1,2};\n",
    "Point(6) = {0,0,-1,lc};\n",
    "Point(7) = {0,0,1,lc};\n",
    "Circle(5) = {3,1,6};\n",
    "Circle(6) = {6,1,5};\n",
    "Circle(7) = {5,1,7};\n",
    "Circle(8) = {7,1,3};\n",
    "Circle(9) = {2,1,7};\n",
    "Circle(10) = {7,1,4};\n",
    "Circle(11) = {4,1,6};\n",
    "Circle(12) = {6,1,2};\n",
    "Curve Loop(13) = {2,8,-10};\n",
    "Surface(14) = {13};\n",
    "Curve Loop(15) = {10,3,7};\n",
    "Surface(16) = {15};\n",
    "Curve Loop(17) = {-8,-9,1};\n",
    "Surface(18) = {17};\n",
    "Curve Loop(19) = {-11,-2,5};\n",
    "Surface(20) = {19};\n",
    "Curve Loop(21) = {-5,-12,-1};\n",
    "Surface(22) = {21};\n",
    "Curve Loop(23) = {-3,11,6};\n",
    "Surface(24) = {23};\n",
    "Curve Loop(25) = {-7,4,9};\n",
    "Surface(26) = {25};\n",
    "Curve Loop(27) = {-4,12,-6};\n",
    "Surface(28) = {27};\n",
    "Surface Loop(29) = {28,26,16,14,20,24,22,18};\n",
    "Volume(30) = {29};\n",
    "\n",
    "Physical Surface(1) = {28,26,16,14,20,24,22,18};\n",
    "Physical Volume(2) = 30;\n"
   ]
  }
 ],
 "metadata": {
  "kernelspec": {
   "display_name": "Python 3 (ipykernel)",
   "language": "python",
   "name": "python3"
  },
  "language_info": {
   "codemirror_mode": {
    "name": "ipython",
    "version": 3
   },
   "file_extension": ".py",
   "mimetype": "text/x-python",
   "name": "python",
   "nbconvert_exporter": "python",
   "pygments_lexer": "ipython3",
   "version": "3.10.4"
  }
 },
 "nbformat": 4,
 "nbformat_minor": 5
}
