{
 "cells": [
  {
   "cell_type": "code",
   "execution_count": 1,
   "id": "817b7af5",
   "metadata": {},
   "outputs": [],
   "source": [
    "import gmsh"
   ]
  },
  {
   "cell_type": "code",
   "execution_count": 2,
   "id": "b22c48b4",
   "metadata": {},
   "outputs": [],
   "source": [
    "gmsh.initialize()"
   ]
  },
  {
   "cell_type": "code",
   "execution_count": 3,
   "id": "e68a2e1a",
   "metadata": {},
   "outputs": [],
   "source": [
    "gmsh.model.add(\"SphereTopo\")"
   ]
  },
  {
   "cell_type": "code",
   "execution_count": 4,
   "id": "d80ffde2",
   "metadata": {},
   "outputs": [],
   "source": [
    "sphere = gmsh.model.geo.add_geometry('PolarSphere', [0., 0., 0., 1.0])"
   ]
  },
  {
   "cell_type": "code",
   "execution_count": 5,
   "id": "e6e50b4e",
   "metadata": {},
   "outputs": [],
   "source": [
    "import numpy as np"
   ]
  },
  {
   "cell_type": "code",
   "execution_count": 6,
   "id": "ba2063b7",
   "metadata": {},
   "outputs": [],
   "source": [
    "lon = np.linspace(-180, 178, 181)\n",
    "lat = np.linspace(-88, 88, 89)"
   ]
  },
  {
   "cell_type": "code",
   "execution_count": 7,
   "id": "b7875d25",
   "metadata": {},
   "outputs": [],
   "source": [
    "lon, lat = np.meshgrid(lon, lat)"
   ]
  },
  {
   "cell_type": "code",
   "execution_count": 8,
   "id": "fdef99ae",
   "metadata": {},
   "outputs": [
    {
     "data": {
      "text/plain": [
       "((89, 181), (89, 181))"
      ]
     },
     "execution_count": 8,
     "metadata": {},
     "output_type": "execute_result"
    }
   ],
   "source": [
    "lon.shape, lat.shape"
   ]
  },
  {
   "cell_type": "code",
   "execution_count": 9,
   "id": "e8a402aa",
   "metadata": {},
   "outputs": [],
   "source": [
    "coords_lon_lat_degrees = np.zeros((89*181, 2))\n",
    "coords_lon_lat_degrees[:, 0] = lon.flatten()\n",
    "coords_lon_lat_degrees[:, 1] = lat.flatten()"
   ]
  },
  {
   "cell_type": "code",
   "execution_count": 10,
   "id": "03748226",
   "metadata": {},
   "outputs": [],
   "source": [
    "from pyproj import Proj\n",
    "to_stereographic = Proj(\"+proj=stere +lat_0=90 +R=1.0 +lat_ts=0\")"
   ]
  },
  {
   "cell_type": "code",
   "execution_count": 11,
   "id": "84eed9e6",
   "metadata": {},
   "outputs": [],
   "source": [
    "x, y = to_stereographic(coords_lon_lat_degrees[:,0], \n",
    "                        coords_lon_lat_degrees[:,1])"
   ]
  },
  {
   "cell_type": "code",
   "execution_count": 13,
   "id": "d595e03d",
   "metadata": {},
   "outputs": [],
   "source": [
    "coords_stereographic = np.zeros_like(coords_lon_lat_degrees)\n",
    "coords_stereographic[:, 0] = x\n",
    "coords_stereographic[:, 1] = y"
   ]
  },
  {
   "cell_type": "code",
   "execution_count": 14,
   "id": "b6e60025",
   "metadata": {},
   "outputs": [],
   "source": [
    "## Add points\n",
    "\n",
    "point_tags = []\n",
    "\n",
    "# Here we account for the fact that, in a polygon shapefile, the first and\n",
    "# last node of a polygon are the same.\n",
    "for index in range(len(coords_stereographic) - 1):\n",
    "    x = coords_stereographic[index, 0]\n",
    "    y = coords_stereographic[index, 1]\n",
    "    tag = gmsh.model.geo.add_point_on_geometry(sphere, x, y)\n",
    "    point_tags.append(tag)"
   ]
  },
  {
   "cell_type": "code",
   "execution_count": 15,
   "id": "8e76acab",
   "metadata": {},
   "outputs": [],
   "source": [
    "gmsh.model.geo.synchronize()"
   ]
  },
  {
   "cell_type": "code",
   "execution_count": 17,
   "id": "2d20e644",
   "metadata": {},
   "outputs": [
    {
     "name": "stdout",
     "output_type": "stream",
     "text": [
      "-------------------------------------------------------\n",
      "Version       : 4.10.1\n",
      "License       : GNU General Public License\n",
      "Build OS      : Linux64-sdk\n",
      "Build date    : 20220501\n",
      "Build host    : gmsh.info\n",
      "Build options : 64Bit ALGLIB[contrib] ANN[contrib] Bamg Blas[petsc] Blossom Cgns DIntegration Dlopen DomHex Eigen[contrib] Fltk Gmm[contrib] Hxt Jpeg Kbipack Lapack[petsc] LinuxJoystick MathEx[contrib] Med Mesh Metis[contrib] Mmg Mpeg Netgen ONELAB ONELABMetamodel OpenCASCADE OpenCASCADE-CAF OpenGL OpenMP OptHom PETSc Parser Plugins Png Post QuadMeshingTools QuadTri Solver TetGen/BR Voro++[contrib] WinslowUntangler Zlib\n",
      "FLTK version  : 1.4.0\n",
      "PETSc version : 3.14.4 (real arithmtic)\n",
      "OCC version   : 7.6.1\n",
      "MED version   : 4.1.0\n",
      "Packaged by   : geuzaine\n",
      "Web site      : https://gmsh.info\n",
      "Issue tracker : https://gitlab.onelab.info/gmsh/gmsh/issues\n",
      "-------------------------------------------------------\n",
      "Info    : Meshing 1D...\n",
      "Info    : Done meshing 1D (Wall 6.545e-06s, CPU 1.1e-05s)\n",
      "Info    : Meshing 2D...\n",
      "Info    : Done meshing 2D (Wall 0.000477693s, CPU 0.000127s)\n",
      "Info    : 16108 nodes 16108 elements\n",
      "Info    : Meshing 1D...\n",
      "Info    : Done meshing 1D (Wall 2.1145e-05s, CPU 2.8e-05s)\n",
      "Info    : Meshing 2D...\n",
      "Info    : Done meshing 2D (Wall 1.6418e-05s, CPU 2.1e-05s)\n",
      "Info    : 16108 nodes 16108 elements\n"
     ]
    }
   ],
   "source": [
    "gmsh.fltk.run()"
   ]
  },
  {
   "cell_type": "code",
   "execution_count": null,
   "id": "9dd73a71",
   "metadata": {},
   "outputs": [],
   "source": []
  }
 ],
 "metadata": {
  "kernelspec": {
   "display_name": "Python 3 (ipykernel)",
   "language": "python",
   "name": "python3"
  },
  "language_info": {
   "codemirror_mode": {
    "name": "ipython",
    "version": 3
   },
   "file_extension": ".py",
   "mimetype": "text/x-python",
   "name": "python",
   "nbconvert_exporter": "python",
   "pygments_lexer": "ipython3",
   "version": "3.10.4"
  }
 },
 "nbformat": 4,
 "nbformat_minor": 5
}
