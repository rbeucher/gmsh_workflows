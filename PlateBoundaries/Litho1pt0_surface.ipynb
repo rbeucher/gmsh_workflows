{
 "cells": [
  {
   "cell_type": "code",
   "execution_count": 4,
   "id": "c9c94eb1",
   "metadata": {},
   "outputs": [],
   "source": [
    "import litho1pt0 as litho\n",
    "import numpy as np"
   ]
  },
  {
   "cell_type": "code",
   "execution_count": 5,
   "id": "2e11adee",
   "metadata": {},
   "outputs": [],
   "source": [
    "lonv, latv = np.meshgrid(  np.linspace(-180.0,180.0,720), np.linspace(-89.999,89.999,360), indexing='xy')\n",
    "\n",
    "l1 = litho.layer_depth(lat=latv, lon=lonv, layerID=\"LID-BOTTOM\")\n",
    "l2 = litho.layer_depth(lat=latv, lon=lonv, layerID=\"LID-TOP\")"
   ]
  },
  {
   "cell_type": "code",
   "execution_count": 10,
   "id": "bd400071",
   "metadata": {},
   "outputs": [],
   "source": [
    "lab_depth = l1* 1e-3"
   ]
  },
  {
   "cell_type": "code",
   "execution_count": 11,
   "id": "21851b98",
   "metadata": {},
   "outputs": [
    {
     "data": {
      "text/plain": [
       "array([[233.36793865, 233.36802429, 233.36810901, ..., 233.36786903,\n",
       "        233.36790429, 233.36793865],\n",
       "       [239.35352379, 239.39654432, 239.43910355, ..., 239.31854508,\n",
       "        239.33626275, 239.35352379],\n",
       "       [244.95740778, 244.68419708, 244.41241924, ..., 244.75002816,\n",
       "        244.85300813, 244.95740778],\n",
       "       ...,\n",
       "       [ 97.07220019,  97.25847133,  97.44089949, ...,  96.68818609,\n",
       "         96.88210027,  97.07220019],\n",
       "       [ 81.33300512,  81.42683327,  81.51993   , ...,  81.14318324,\n",
       "         81.2384527 ,  81.33300512],\n",
       "       [ 71.86688115,  71.86706793,  71.86725325, ...,  71.86650329,\n",
       "         71.86669293,  71.86688115]])"
      ]
     },
     "execution_count": 11,
     "metadata": {},
     "output_type": "execute_result"
    }
   ],
   "source": [
    "lab_depth"
   ]
  },
  {
   "cell_type": "code",
   "execution_count": 12,
   "id": "b6782b6b",
   "metadata": {},
   "outputs": [
    {
     "data": {
      "text/plain": [
       "(array([[-180.        , -179.49930459, -178.99860918, ...,  178.99860918,\n",
       "          179.49930459,  180.        ],\n",
       "        [-180.        , -179.49930459, -178.99860918, ...,  178.99860918,\n",
       "          179.49930459,  180.        ],\n",
       "        [-180.        , -179.49930459, -178.99860918, ...,  178.99860918,\n",
       "          179.49930459,  180.        ],\n",
       "        ...,\n",
       "        [-180.        , -179.49930459, -178.99860918, ...,  178.99860918,\n",
       "          179.49930459,  180.        ],\n",
       "        [-180.        , -179.49930459, -178.99860918, ...,  178.99860918,\n",
       "          179.49930459,  180.        ],\n",
       "        [-180.        , -179.49930459, -178.99860918, ...,  178.99860918,\n",
       "          179.49930459,  180.        ]]),\n",
       " array([[-89.999     , -89.999     , -89.999     , ..., -89.999     ,\n",
       "         -89.999     , -89.999     ],\n",
       "        [-89.49761281, -89.49761281, -89.49761281, ..., -89.49761281,\n",
       "         -89.49761281, -89.49761281],\n",
       "        [-88.99622563, -88.99622563, -88.99622563, ..., -88.99622563,\n",
       "         -88.99622563, -88.99622563],\n",
       "        ...,\n",
       "        [ 88.99622563,  88.99622563,  88.99622563, ...,  88.99622563,\n",
       "          88.99622563,  88.99622563],\n",
       "        [ 89.49761281,  89.49761281,  89.49761281, ...,  89.49761281,\n",
       "          89.49761281,  89.49761281],\n",
       "        [ 89.999     ,  89.999     ,  89.999     , ...,  89.999     ,\n",
       "          89.999     ,  89.999     ]]))"
      ]
     },
     "execution_count": 12,
     "metadata": {},
     "output_type": "execute_result"
    }
   ],
   "source": [
    "lonv, latv"
   ]
  },
  {
   "cell_type": "code",
   "execution_count": null,
   "id": "25179d9f",
   "metadata": {},
   "outputs": [],
   "source": []
  }
 ],
 "metadata": {
  "kernelspec": {
   "display_name": "Python 3 (ipykernel)",
   "language": "python",
   "name": "python3"
  },
  "language_info": {
   "codemirror_mode": {
    "name": "ipython",
    "version": 3
   },
   "file_extension": ".py",
   "mimetype": "text/x-python",
   "name": "python",
   "nbconvert_exporter": "python",
   "pygments_lexer": "ipython3",
   "version": "3.10.4"
  }
 },
 "nbformat": 4,
 "nbformat_minor": 5
}
