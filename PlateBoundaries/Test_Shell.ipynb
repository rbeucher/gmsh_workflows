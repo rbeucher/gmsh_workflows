{
 "cells": [
  {
   "cell_type": "code",
   "execution_count": 1,
   "id": "328579da",
   "metadata": {},
   "outputs": [],
   "source": [
    "import gmsh"
   ]
  },
  {
   "cell_type": "code",
   "execution_count": 2,
   "id": "050a199b",
   "metadata": {},
   "outputs": [],
   "source": [
    "gmsh.initialize()"
   ]
  },
  {
   "cell_type": "code",
   "execution_count": 3,
   "id": "8c84d164",
   "metadata": {},
   "outputs": [],
   "source": [
    "gmsh.model.add(\"Shell\")"
   ]
  },
  {
   "cell_type": "code",
   "execution_count": 4,
   "id": "ad4cfba5",
   "metadata": {},
   "outputs": [],
   "source": [
    "pt1 = gmsh.model.geo.add_point(0,0,0, meshSize=1.)\n",
    "pt2 = gmsh.model.geo.add_point(10,0,0, meshSize=1.)\n",
    "pt3 = gmsh.model.geo.add_point(-10,0,0, meshSize=1.)\n",
    "pt4 = gmsh.model.geo.add_point(0,-10,0, meshSize=1.)\n",
    "pt5 = gmsh.model.geo.add_point(0,10,0, meshSize=1.)\n",
    "pt6 = gmsh.model.geo.add_point(0,0,10, meshSize=1.)\n",
    "pt7 = gmsh.model.geo.add_point(0,0,-10, meshSize=1.)"
   ]
  },
  {
   "cell_type": "code",
   "execution_count": 5,
   "id": "8295a1d9",
   "metadata": {},
   "outputs": [],
   "source": [
    "circle1 = gmsh.model.geo.add_circle_arc(pt2, pt1, pt4)\n",
    "circle2 = gmsh.model.geo.add_circle_arc(pt4, pt1, pt3)\n",
    "circle3 = gmsh.model.geo.add_circle_arc(pt3, pt1, pt5)\n",
    "circle4 = gmsh.model.geo.add_circle_arc(pt5, pt1, pt2)\n",
    "circle5 = gmsh.model.geo.add_circle_arc(pt2, pt1, pt6)\n",
    "circle6 = gmsh.model.geo.add_circle_arc(pt6, pt1, pt3)\n",
    "circle7 = gmsh.model.geo.add_circle_arc(pt3, pt1, pt7)\n",
    "circle8 = gmsh.model.geo.add_circle_arc(pt7, pt1, pt2)\n",
    "circle9 = gmsh.model.geo.add_circle_arc(pt4, pt1, pt6)\n",
    "circle10 = gmsh.model.geo.add_circle_arc(pt6, pt1, pt5)\n",
    "circle11 = gmsh.model.geo.add_circle_arc(pt5, pt1, pt7)\n",
    "circle12 = gmsh.model.geo.add_circle_arc(pt7, pt1, pt4)"
   ]
  },
  {
   "cell_type": "code",
   "execution_count": 6,
   "id": "cfdd79c0",
   "metadata": {},
   "outputs": [],
   "source": [
    "loop14 = gmsh.model.geo.add_curve_loop([circle2, circle7, circle12])\n",
    "surf1 = gmsh.model.geo.add_surface_filling([loop14])\n",
    "loop16 = gmsh.model.geo.add_curve_loop([circle2, -circle6, -circle9])\n",
    "surf2 = gmsh.model.geo.add_surface_filling([loop16])\n",
    "loop18 = gmsh.model.geo.add_curve_loop([circle3, -circle10, circle6])\n",
    "surf3 = gmsh.model.geo.add_surface_filling([loop18])\n",
    "loop20 = gmsh.model.geo.add_curve_loop([circle3, circle11, -circle7])\n",
    "surf4 = gmsh.model.geo.add_surface_filling([loop20])\n",
    "loop22 = gmsh.model.geo.add_curve_loop([circle4, -circle8, -circle11])\n",
    "surf5 = gmsh.model.geo.add_surface_filling([loop22])\n",
    "loop24 = gmsh.model.geo.add_curve_loop([circle4, circle5, circle10])\n",
    "surf6 = gmsh.model.geo.add_surface_filling([loop24])\n",
    "loop26 = gmsh.model.geo.add_curve_loop([circle1, circle9, -circle5])\n",
    "surf7 = gmsh.model.geo.add_surface_filling([loop26])\n",
    "loop28 = gmsh.model.geo.add_curve_loop([circle1, -circle12, circle8])\n",
    "surf8 = gmsh.model.geo.add_surface_filling([loop28])"
   ]
  },
  {
   "cell_type": "code",
   "execution_count": 7,
   "id": "360f9e5c",
   "metadata": {},
   "outputs": [],
   "source": [
    "sloop1 = gmsh.model.geo.add_surface_loop([surf1, surf2, surf3, surf4, surf5, surf6, surf7, surf8])"
   ]
  },
  {
   "cell_type": "code",
   "execution_count": 8,
   "id": "0b01d44f",
   "metadata": {},
   "outputs": [],
   "source": [
    "pt1 = gmsh.model.geo.add_point(0,0,0, meshSize=1.)\n",
    "pt2 = gmsh.model.geo.add_point(3,0,0, meshSize=1.)\n",
    "pt3 = gmsh.model.geo.add_point(-3,0,0, meshSize=1.)\n",
    "pt4 = gmsh.model.geo.add_point(0,-3,0, meshSize=1.)\n",
    "pt5 = gmsh.model.geo.add_point(0,3,0, meshSize=1.)\n",
    "pt6 = gmsh.model.geo.add_point(0,0,3, meshSize=1.)\n",
    "pt7 = gmsh.model.geo.add_point(0,0,-3, meshSize=1.)"
   ]
  },
  {
   "cell_type": "code",
   "execution_count": 9,
   "id": "3f93cebb",
   "metadata": {},
   "outputs": [],
   "source": [
    "circle1 = gmsh.model.geo.add_circle_arc(pt2, pt1, pt4)\n",
    "circle2 = gmsh.model.geo.add_circle_arc(pt4, pt1, pt3)\n",
    "circle3 = gmsh.model.geo.add_circle_arc(pt3, pt1, pt5)\n",
    "circle4 = gmsh.model.geo.add_circle_arc(pt5, pt1, pt2)\n",
    "circle5 = gmsh.model.geo.add_circle_arc(pt2, pt1, pt6)\n",
    "circle6 = gmsh.model.geo.add_circle_arc(pt6, pt1, pt3)\n",
    "circle7 = gmsh.model.geo.add_circle_arc(pt3, pt1, pt7)\n",
    "circle8 = gmsh.model.geo.add_circle_arc(pt7, pt1, pt2)\n",
    "circle9 = gmsh.model.geo.add_circle_arc(pt4, pt1, pt6)\n",
    "circle10 = gmsh.model.geo.add_circle_arc(pt6, pt1, pt5)\n",
    "circle11 = gmsh.model.geo.add_circle_arc(pt5, pt1, pt7)\n",
    "circle12 = gmsh.model.geo.add_circle_arc(pt7, pt1, pt4)"
   ]
  },
  {
   "cell_type": "code",
   "execution_count": 10,
   "id": "16620294",
   "metadata": {},
   "outputs": [],
   "source": [
    "loop14 = gmsh.model.geo.add_curve_loop([circle2, circle7, circle12])\n",
    "surf1 = gmsh.model.geo.add_surface_filling([loop14])\n",
    "loop16 = gmsh.model.geo.add_curve_loop([circle2, -circle6, -circle9])\n",
    "surf2 = gmsh.model.geo.add_surface_filling([loop16])\n",
    "loop18 = gmsh.model.geo.add_curve_loop([circle3, -circle10, circle6])\n",
    "surf3 = gmsh.model.geo.add_surface_filling([loop18])\n",
    "loop20 = gmsh.model.geo.add_curve_loop([circle3, circle11, -circle7])\n",
    "surf4 = gmsh.model.geo.add_surface_filling([loop20])\n",
    "loop22 = gmsh.model.geo.add_curve_loop([circle4, -circle8, -circle11])\n",
    "surf5 = gmsh.model.geo.add_surface_filling([loop22])\n",
    "loop24 = gmsh.model.geo.add_curve_loop([circle4, circle5, circle10])\n",
    "surf6 = gmsh.model.geo.add_surface_filling([loop24])\n",
    "loop26 = gmsh.model.geo.add_curve_loop([circle1, circle9, -circle5])\n",
    "surf7 = gmsh.model.geo.add_surface_filling([loop26])\n",
    "loop28 = gmsh.model.geo.add_curve_loop([circle1, -circle12, circle8])\n",
    "surf8 = gmsh.model.geo.add_surface_filling([loop28])"
   ]
  },
  {
   "cell_type": "code",
   "execution_count": 11,
   "id": "e8457211",
   "metadata": {},
   "outputs": [],
   "source": [
    "sloop2 = gmsh.model.geo.add_surface_loop([surf1, surf2, surf3, surf4, surf5, surf6, surf7, surf8])"
   ]
  },
  {
   "cell_type": "code",
   "execution_count": 12,
   "id": "f9d35843",
   "metadata": {},
   "outputs": [
    {
     "data": {
      "text/plain": [
       "1"
      ]
     },
     "execution_count": 12,
     "metadata": {},
     "output_type": "execute_result"
    }
   ],
   "source": [
    "gmsh.model.geo.add_volume([sloop1, sloop2])"
   ]
  },
  {
   "cell_type": "code",
   "execution_count": 13,
   "id": "75aeb22a",
   "metadata": {},
   "outputs": [],
   "source": [
    "gmsh.model.geo.synchronize()"
   ]
  },
  {
   "cell_type": "code",
   "execution_count": 14,
   "id": "18c545c0",
   "metadata": {},
   "outputs": [
    {
     "name": "stdout",
     "output_type": "stream",
     "text": [
      "-------------------------------------------------------\n",
      "Version       : 4.10.1\n",
      "License       : GNU General Public License\n",
      "Build OS      : Linux64-sdk\n",
      "Build date    : 20220501\n",
      "Build host    : gmsh.info\n",
      "Build options : 64Bit ALGLIB[contrib] ANN[contrib] Bamg Blas[petsc] Blossom Cgns DIntegration Dlopen DomHex Eigen[contrib] Fltk Gmm[contrib] Hxt Jpeg Kbipack Lapack[petsc] LinuxJoystick MathEx[contrib] Med Mesh Metis[contrib] Mmg Mpeg Netgen ONELAB ONELABMetamodel OpenCASCADE OpenCASCADE-CAF OpenGL OpenMP OptHom PETSc Parser Plugins Png Post QuadMeshingTools QuadTri Solver TetGen/BR Voro++[contrib] WinslowUntangler Zlib\n",
      "FLTK version  : 1.4.0\n",
      "PETSc version : 3.14.4 (real arithmtic)\n",
      "OCC version   : 7.6.1\n",
      "MED version   : 4.1.0\n",
      "Packaged by   : geuzaine\n",
      "Web site      : https://gmsh.info\n",
      "Issue tracker : https://gitlab.onelab.info/gmsh/gmsh/issues\n",
      "-------------------------------------------------------\n",
      "Info    : Meshing 1D...\n",
      "Info    : [  0%] Meshing curve 1 (Circle)\n",
      "Info    : [ 10%] Meshing curve 2 (Circle)\n",
      "Info    : [ 10%] Meshing curve 3 (Circle)\n",
      "Info    : [ 20%] Meshing curve 4 (Circle)\n",
      "Info    : [ 20%] Meshing curve 5 (Circle)\n",
      "Info    : [ 30%] Meshing curve 6 (Circle)\n",
      "Info    : [ 30%] Meshing curve 7 (Circle)\n",
      "Info    : [ 30%] Meshing curve 8 (Circle)\n",
      "Info    : [ 40%] Meshing curve 9 (Circle)\n",
      "Info    : [ 40%] Meshing curve 10 (Circle)\n",
      "Info    : [ 50%] Meshing curve 11 (Circle)\n",
      "Info    : [ 50%] Meshing curve 12 (Circle)\n",
      "Info    : [ 50%] Meshing curve 13 (Circle)\n",
      "Info    : [ 60%] Meshing curve 14 (Circle)\n",
      "Info    : [ 60%] Meshing curve 15 (Circle)\n",
      "Info    : [ 70%] Meshing curve 16 (Circle)\n",
      "Info    : [ 70%] Meshing curve 17 (Circle)\n",
      "Info    : [ 80%] Meshing curve 18 (Circle)\n",
      "Info    : [ 80%] Meshing curve 19 (Circle)\n",
      "Info    : [ 80%] Meshing curve 20 (Circle)\n",
      "Info    : [ 90%] Meshing curve 21 (Circle)\n",
      "Info    : [ 90%] Meshing curve 22 (Circle)\n",
      "Info    : [100%] Meshing curve 23 (Circle)\n",
      "Info    : [100%] Meshing curve 24 (Circle)\n",
      "Info    : Done meshing 1D (Wall 0.00661551s, CPU 0.008288s)\n",
      "Info    : 242 nodes 266 elements\n",
      "Info    : Meshing 1D...\n",
      "Info    : [  0%] Meshing curve 1 (Circle)\n",
      "Info    : [ 10%] Meshing curve 2 (Circle)\n",
      "Info    : [ 10%] Meshing curve 3 (Circle)\n",
      "Info    : [ 20%] Meshing curve 4 (Circle)\n",
      "Info    : [ 20%] Meshing curve 5 (Circle)\n",
      "Info    : [ 30%] Meshing curve 6 (Circle)\n",
      "Info    : [ 30%] Meshing curve 7 (Circle)\n",
      "Info    : [ 30%] Meshing curve 8 (Circle)\n",
      "Info    : [ 40%] Meshing curve 9 (Circle)\n",
      "Info    : [ 40%] Meshing curve 10 (Circle)\n",
      "Info    : [ 50%] Meshing curve 11 (Circle)\n",
      "Info    : [ 50%] Meshing curve 12 (Circle)\n",
      "Info    : [ 50%] Meshing curve 13 (Circle)\n",
      "Info    : [ 60%] Meshing curve 14 (Circle)\n",
      "Info    : [ 60%] Meshing curve 15 (Circle)\n",
      "Info    : [ 70%] Meshing curve 16 (Circle)\n",
      "Info    : [ 70%] Meshing curve 17 (Circle)\n",
      "Info    : [ 80%] Meshing curve 18 (Circle)\n",
      "Info    : [ 80%] Meshing curve 19 (Circle)\n",
      "Info    : [ 80%] Meshing curve 20 (Circle)\n",
      "Info    : [ 90%] Meshing curve 21 (Circle)\n",
      "Info    : [ 90%] Meshing curve 22 (Circle)\n",
      "Info    : [100%] Meshing curve 23 (Circle)\n",
      "Info    : [100%] Meshing curve 24 (Circle)\n",
      "Info    : Done meshing 1D (Wall 0.00264419s, CPU 0.003427s)\n",
      "Info    : 242 nodes 266 elements\n",
      "Info    : Meshing 2D...\n",
      "Info    : [  0%] Meshing surface 1 (Surface, Frontal-Delaunay)\n",
      "Info    : [ 10%] Meshing surface 2 (Surface, Frontal-Delaunay)\n",
      "Info    : [ 20%] Meshing surface 3 (Surface, Frontal-Delaunay)\n",
      "Info    : [ 20%] Meshing surface 4 (Surface, Frontal-Delaunay)\n",
      "Info    : [ 30%] Meshing surface 5 (Surface, Frontal-Delaunay)\n",
      "Info    : [ 40%] Meshing surface 6 (Surface, Frontal-Delaunay)\n",
      "Info    : [ 40%] Meshing surface 7 (Surface, Frontal-Delaunay)\n",
      "Info    : [ 50%] Meshing surface 8 (Surface, Frontal-Delaunay)\n",
      "Info    : [ 50%] Meshing surface 9 (Surface, Frontal-Delaunay)\n",
      "Info    : [ 60%] Meshing surface 10 (Surface, Frontal-Delaunay)\n",
      "Info    : [ 70%] Meshing surface 11 (Surface, Frontal-Delaunay)\n",
      "Info    : [ 70%] Meshing surface 12 (Surface, Frontal-Delaunay)\n",
      "Info    : [ 80%] Meshing surface 13 (Surface, Frontal-Delaunay)\n",
      "Info    : [ 90%] Meshing surface 14 (Surface, Frontal-Delaunay)\n",
      "Info    : [ 90%] Meshing surface 15 (Surface, Frontal-Delaunay)\n",
      "Info    : [100%] Meshing surface 16 (Surface, Frontal-Delaunay)\n",
      "Info    : Done meshing 2D (Wall 0.116054s, CPU 0.117463s)\n",
      "Info    : 1793 nodes 3840 elements\n",
      "Info    : Meshing 2D...\n",
      "Info    : [  0%] Meshing surface 1 (Surface, Frontal-Delaunay)\n",
      "Info    : [ 10%] Meshing surface 2 (Surface, Frontal-Delaunay)\n",
      "Info    : [ 20%] Meshing surface 3 (Surface, Frontal-Delaunay)\n",
      "Info    : [ 20%] Meshing surface 4 (Surface, Frontal-Delaunay)\n",
      "Info    : [ 30%] Meshing surface 5 (Surface, Frontal-Delaunay)\n",
      "Info    : [ 40%] Meshing surface 6 (Surface, Frontal-Delaunay)\n",
      "Info    : [ 40%] Meshing surface 7 (Surface, Frontal-Delaunay)\n",
      "Info    : [ 50%] Meshing surface 8 (Surface, Frontal-Delaunay)\n",
      "Info    : [ 50%] Meshing surface 9 (Surface, Frontal-Delaunay)\n",
      "Info    : [ 60%] Meshing surface 10 (Surface, Frontal-Delaunay)\n",
      "Info    : [ 70%] Meshing surface 11 (Surface, Frontal-Delaunay)\n",
      "Info    : [ 70%] Meshing surface 12 (Surface, Frontal-Delaunay)\n",
      "Info    : [ 80%] Meshing surface 13 (Surface, Frontal-Delaunay)\n",
      "Info    : [ 90%] Meshing surface 14 (Surface, Frontal-Delaunay)\n",
      "Info    : [ 90%] Meshing surface 15 (Surface, Frontal-Delaunay)\n",
      "Info    : [100%] Meshing surface 16 (Surface, Frontal-Delaunay)\n",
      "Info    : Done meshing 2D (Wall 0.099025s, CPU 0.101313s)\n",
      "Info    : 1793 nodes 3840 elements\n",
      "Info    : Meshing 3D...\n",
      "Info    : 3D Meshing 1 volume with 1 connected component\n",
      "Info    : Tetrahedrizing 1791 nodes...\n",
      "Info    : Done tetrahedrizing 1799 nodes (Wall 0.0167753s, CPU 0.016804s)\n",
      "Info    : Reconstructing mesh...\n",
      "Info    :  - Creating surface mesh\n",
      "Info    :  - Identifying boundary edges\n",
      "Info    :  - Recovering boundary\n",
      "Info    : Done reconstructing mesh (Wall 0.0393094s, CPU 0.039115s)\n",
      "Info    : Found volume 1\n",
      "Info    : Found void region\n",
      "Info    : It. 0 - 0 nodes created - worst tet radius 3.97896 (nodes removed 0 0)\n",
      "Info    : It. 500 - 500 nodes created - worst tet radius 1.62336 (nodes removed 0 0)\n",
      "Info    : It. 1000 - 1000 nodes created - worst tet radius 1.32291 (nodes removed 0 0)\n",
      "Info    : It. 1500 - 1500 nodes created - worst tet radius 1.1757 (nodes removed 0 0)\n",
      "Info    : It. 2000 - 2000 nodes created - worst tet radius 1.07022 (nodes removed 0 0)\n",
      "Info    : I'm busy! Ask me that later...\n",
      "Info    : 3D refinement terminated (4275 nodes total):\n",
      "Info    :  - 0 Delaunay cavities modified for star shapeness\n",
      "Info    :  - 0 nodes could not be inserted\n",
      "Info    :  - 21332 tetrahedra created in 0.126183 sec. (169056 tets/s)\n",
      "Info    : Done meshing 3D (Wall 0.230035s, CPU 0.219279s)\n",
      "Info    : Optimizing mesh...\n",
      "Info    : Optimizing volume 1\n",
      "Info    : Optimization starts (volume = 4064.64) with worst = 0.0149451 / average = 0.773122:\n",
      "Info    : 0.00 < quality < 0.10 :        53 elements\n",
      "Info    : 0.10 < quality < 0.20 :       152 elements\n",
      "Info    : 0.20 < quality < 0.30 :       235 elements\n",
      "Info    : 0.30 < quality < 0.40 :       373 elements\n",
      "Info    : 0.40 < quality < 0.50 :       606 elements\n",
      "Info    : 0.50 < quality < 0.60 :      1084 elements\n",
      "Info    : 0.60 < quality < 0.70 :      2271 elements\n",
      "Info    : 0.70 < quality < 0.80 :      5042 elements\n",
      "Info    : 0.80 < quality < 0.90 :      7897 elements\n",
      "Info    : 0.90 < quality < 1.00 :      3619 elements\n",
      "Info    : 437 edge swaps, 19 node relocations (volume = 4064.64): worst = 0.237402 / average = 0.786298 (Wall 0.0114233s, CPU 0.011315s)\n",
      "Info    : 442 edge swaps, 19 node relocations (volume = 4064.64): worst = 0.30083 / average = 0.786408 (Wall 0.0161202s, CPU 0.016073s)\n",
      "Info    : No ill-shaped tets in the mesh :-)\n",
      "Info    : 0.00 < quality < 0.10 :         0 elements\n",
      "Info    : 0.10 < quality < 0.20 :         0 elements\n",
      "Info    : 0.20 < quality < 0.30 :         0 elements\n",
      "Info    : 0.30 < quality < 0.40 :       369 elements\n",
      "Info    : 0.40 < quality < 0.50 :       568 elements\n",
      "Info    : 0.50 < quality < 0.60 :      1043 elements\n",
      "Info    : 0.60 < quality < 0.70 :      2289 elements\n",
      "Info    : 0.70 < quality < 0.80 :      5054 elements\n",
      "Info    : 0.80 < quality < 0.90 :      8006 elements\n",
      "Info    : 0.90 < quality < 1.00 :      3598 elements\n",
      "Info    : Done optimizing mesh (Wall 0.0432781s, CPU 0.035983s)\n",
      "Info    : 4277 nodes 24767 elements\n"
     ]
    },
    {
     "name": "stdout",
     "output_type": "stream",
     "text": [
      "Info    : Writing '/home/romain/PROJECTS/Project_plate_boundaries/hollow.vtk'...\n",
      "Info    : Done writing '/home/romain/PROJECTS/Project_plate_boundaries/hollow.vtk'\n"
     ]
    }
   ],
   "source": [
    "gmsh.fltk.run()"
   ]
  },
  {
   "cell_type": "code",
   "execution_count": null,
   "id": "55220630",
   "metadata": {},
   "outputs": [],
   "source": []
  }
 ],
 "metadata": {
  "kernelspec": {
   "display_name": "Python 3 (ipykernel)",
   "language": "python",
   "name": "python3"
  },
  "language_info": {
   "codemirror_mode": {
    "name": "ipython",
    "version": 3
   },
   "file_extension": ".py",
   "mimetype": "text/x-python",
   "name": "python",
   "nbconvert_exporter": "python",
   "pygments_lexer": "ipython3",
   "version": "3.10.4"
  }
 },
 "nbformat": 4,
 "nbformat_minor": 5
}
