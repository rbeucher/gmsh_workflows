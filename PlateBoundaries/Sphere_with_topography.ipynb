{
 "cells": [
  {
   "cell_type": "code",
   "execution_count": 1,
   "id": "817b7af5",
   "metadata": {},
   "outputs": [],
   "source": [
    "import gmsh"
   ]
  },
  {
   "cell_type": "code",
   "execution_count": 2,
   "id": "b22c48b4",
   "metadata": {},
   "outputs": [],
   "source": [
    "gmsh.initialize()"
   ]
  },
  {
   "cell_type": "code",
   "execution_count": 3,
   "id": "a7c026eb",
   "metadata": {},
   "outputs": [],
   "source": [
    "gmsh.option.setNumber(\"Mesh.CharacteristicLengthMax\", 0.1)"
   ]
  },
  {
   "cell_type": "code",
   "execution_count": 4,
   "id": "e68a2e1a",
   "metadata": {},
   "outputs": [],
   "source": [
    "gmsh.model.add(\"SphereTopo\")"
   ]
  },
  {
   "cell_type": "code",
   "execution_count": 5,
   "id": "d80ffde2",
   "metadata": {},
   "outputs": [],
   "source": [
    "sphere = gmsh.model.occ.add_sphere(0,0,0, 1.0)"
   ]
  },
  {
   "cell_type": "code",
   "execution_count": 6,
   "id": "5d3a54f0",
   "metadata": {},
   "outputs": [],
   "source": [
    "gmsh.model.occ.synchronize()"
   ]
  },
  {
   "cell_type": "code",
   "execution_count": 7,
   "id": "0b35c9d2",
   "metadata": {},
   "outputs": [
    {
     "name": "stdout",
     "output_type": "stream",
     "text": [
      "Info    : Meshing 1D...\n",
      "Info    : [ 40%] Meshing curve 2 (Circle)\n",
      "Info    : Done meshing 1D (Wall 0.000178054s, CPU 0.000425s)\n",
      "Info    : Meshing 2D...\n",
      "Info    : Meshing surface 1 (Sphere, Frontal-Delaunay)\n",
      "Info    : Done meshing 2D (Wall 0.089085s, CPU 0.086245s)\n",
      "Info    : 1578 nodes 3186 elements\n"
     ]
    }
   ],
   "source": [
    "gmsh.model.mesh.generate(2)"
   ]
  },
  {
   "cell_type": "code",
   "execution_count": 8,
   "id": "015cc673",
   "metadata": {},
   "outputs": [],
   "source": [
    "#gmsh.fltk.run()"
   ]
  },
  {
   "cell_type": "code",
   "execution_count": 9,
   "id": "b8b8495e",
   "metadata": {},
   "outputs": [],
   "source": [
    "nodeTags = {}\n",
    "nodeCoords = {}\n",
    "elementTypes = {}\n",
    "elementTags = {}\n",
    "elementNodeTags = {}\n"
   ]
  },
  {
   "cell_type": "code",
   "execution_count": 10,
   "id": "948585c2",
   "metadata": {},
   "outputs": [],
   "source": [
    "entities = gmsh.model.get_entities()"
   ]
  },
  {
   "cell_type": "code",
   "execution_count": 11,
   "id": "949ac2ae",
   "metadata": {},
   "outputs": [],
   "source": [
    "# get the nodes and elements\n",
    "for e in entities:\n",
    "    nodeTags[e], nodeCoords[e], _ = gmsh.model.mesh.getNodes(e[0], e[1])\n",
    "    elementTypes[e], elementTags[e], elementNodeTags[e] = gmsh.model.mesh.getElements(e[0], e[1])"
   ]
  },
  {
   "cell_type": "code",
   "execution_count": 12,
   "id": "9bf49079",
   "metadata": {},
   "outputs": [],
   "source": [
    "gmsh.model.mesh.clear()"
   ]
  },
  {
   "cell_type": "code",
   "execution_count": 13,
   "id": "94861f7f",
   "metadata": {},
   "outputs": [],
   "source": [
    "import numpy as np\n",
    "import random\n",
    "\n",
    "for e in entities:    \n",
    "    for i in range(2, len(nodeCoords[e]), 3):\n",
    "        x = nodeCoords[e][i-2]\n",
    "        y = nodeCoords[e][i-1]\n",
    "        z = nodeCoords[e][i]\n",
    "        rho = np.sqrt(x**2 + y**2 + z**2)\n",
    "        theta = np.arctan2(y, x)\n",
    "        phi = np.arcsin(z / rho)\n",
    "        rho += random.random() * 0.1\n",
    "        nodeCoords[e][i-2] = rho * np.cos(phi) * np.cos(theta)\n",
    "        nodeCoords[e][i-1] = rho * np.cos(phi) * np.sin(theta)\n",
    "        nodeCoords[e][i] = rho * np.sin(phi)\n",
    "    gmsh.model.mesh.addNodes(e[0], e[1], nodeTags[e], nodeCoords[e])\n",
    "    gmsh.model.mesh.addElements(e[0], e[1], elementTypes[e], elementTags[e],\n",
    "                               elementNodeTags[e])"
   ]
  },
  {
   "cell_type": "code",
   "execution_count": 14,
   "id": "a8132ab5",
   "metadata": {},
   "outputs": [
    {
     "name": "stdout",
     "output_type": "stream",
     "text": [
      "Info    : Writing 'test.vtk'...\n",
      "Info    : Done writing 'test.vtk'\n"
     ]
    }
   ],
   "source": [
    "gmsh.write(\"test.vtk\")"
   ]
  },
  {
   "cell_type": "code",
   "execution_count": 15,
   "id": "8db4eb6c",
   "metadata": {},
   "outputs": [
    {
     "name": "stdout",
     "output_type": "stream",
     "text": [
      "-------------------------------------------------------\n",
      "Version       : 4.10.1\n",
      "License       : GNU General Public License\n",
      "Build OS      : Linux64-sdk\n",
      "Build date    : 20220501\n",
      "Build host    : gmsh.info\n",
      "Build options : 64Bit ALGLIB[contrib] ANN[contrib] Bamg Blas[petsc] Blossom Cgns DIntegration Dlopen DomHex Eigen[contrib] Fltk Gmm[contrib] Hxt Jpeg Kbipack Lapack[petsc] LinuxJoystick MathEx[contrib] Med Mesh Metis[contrib] Mmg Mpeg Netgen ONELAB ONELABMetamodel OpenCASCADE OpenCASCADE-CAF OpenGL OpenMP OptHom PETSc Parser Plugins Png Post QuadMeshingTools QuadTri Solver TetGen/BR Voro++[contrib] WinslowUntangler Zlib\n",
      "FLTK version  : 1.4.0\n",
      "PETSc version : 3.14.4 (real arithmtic)\n",
      "OCC version   : 7.6.1\n",
      "MED version   : 4.1.0\n",
      "Packaged by   : geuzaine\n",
      "Web site      : https://gmsh.info\n",
      "Issue tracker : https://gitlab.onelab.info/gmsh/gmsh/issues\n",
      "-------------------------------------------------------\n"
     ]
    }
   ],
   "source": [
    "gmsh.fltk.run()"
   ]
  },
  {
   "cell_type": "code",
   "execution_count": null,
   "id": "9273d9bf",
   "metadata": {},
   "outputs": [],
   "source": []
  }
 ],
 "metadata": {
  "kernelspec": {
   "display_name": "Python 3 (ipykernel)",
   "language": "python",
   "name": "python3"
  },
  "language_info": {
   "codemirror_mode": {
    "name": "ipython",
    "version": 3
   },
   "file_extension": ".py",
   "mimetype": "text/x-python",
   "name": "python",
   "nbconvert_exporter": "python",
   "pygments_lexer": "ipython3",
   "version": "3.10.4"
  }
 },
 "nbformat": 4,
 "nbformat_minor": 5
}
