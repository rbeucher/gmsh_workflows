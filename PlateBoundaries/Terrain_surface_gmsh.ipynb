{
 "cells": [
  {
   "cell_type": "code",
   "execution_count": 1,
   "id": "5a085d18",
   "metadata": {},
   "outputs": [],
   "source": [
    "import gmsh\n",
    "import math\n"
   ]
  },
  {
   "cell_type": "code",
   "execution_count": 2,
   "id": "a076e3e6",
   "metadata": {},
   "outputs": [],
   "source": [
    "gmsh.initialize()\n",
    "gmsh.model.add(\"terrain\")\n"
   ]
  },
  {
   "cell_type": "code",
   "execution_count": 3,
   "id": "60ca856b",
   "metadata": {},
   "outputs": [],
   "source": [
    "# create the terrain surface from N x N input data points (here simulated using\n",
    "# a simple function):\n",
    "N = 100\n",
    "coords = []  # x, y, z coordinates of all the points\n",
    "nodes = []  # tags of corresponding nodes\n",
    "tris = []  # connectivities (node tags) of triangle elements\n",
    "lin = [[], [], [], []]  # connectivities of boundary line elements"
   ]
  },
  {
   "cell_type": "code",
   "execution_count": 4,
   "id": "a8be4a04",
   "metadata": {},
   "outputs": [],
   "source": [
    "def tag(i, j):\n",
    "    return (N + 1) * i + j + 1\n",
    "\n",
    "\n",
    "for i in range(N + 1):\n",
    "    for j in range(N + 1):\n",
    "        nodes.append(tag(i, j))\n",
    "        coords.extend([\n",
    "            float(i) / N,\n",
    "            float(j) / N, 0.05 * math.sin(10 * float(i + j) / N)\n",
    "        ])\n",
    "        if i > 0 and j > 0:\n",
    "            tris.extend([tag(i - 1, j - 1), tag(i, j - 1), tag(i - 1, j)])\n",
    "            tris.extend([tag(i, j - 1), tag(i, j), tag(i - 1, j)])\n",
    "        if (i == 0 or i == N) and j > 0:\n",
    "            lin[3 if i == 0 else 1].extend([tag(i, j - 1), tag(i, j)])\n",
    "        if (j == 0 or j == N) and i > 0:\n",
    "            lin[0 if j == 0 else 2].extend([tag(i - 1, j), tag(i, j)])\n",
    "pnt = [tag(0, 0), tag(N, 0), tag(N, N), tag(0, N)]  # corner points element"
   ]
  },
  {
   "cell_type": "code",
   "execution_count": 5,
   "id": "60e551d5",
   "metadata": {},
   "outputs": [],
   "source": [
    "# create 4 corner points\n",
    "gmsh.model.geo.addPoint(0, 0, coords[3 * tag(0, 0) - 1], 1)\n",
    "gmsh.model.geo.addPoint(1, 0, coords[3 * tag(N, 0) - 1], 2)\n",
    "gmsh.model.geo.addPoint(1, 1, coords[3 * tag(N, N) - 1], 3)\n",
    "gmsh.model.geo.addPoint(0, 1, coords[3 * tag(0, N) - 1], 4)\n",
    "gmsh.model.geo.synchronize()"
   ]
  },
  {
   "cell_type": "code",
   "execution_count": 6,
   "id": "9e382cea",
   "metadata": {},
   "outputs": [],
   "source": [
    "# create 4 discrete bounding curves, with their boundary points\n",
    "for i in range(4):\n",
    "    gmsh.model.addDiscreteEntity(1, i + 1, [i + 1, i + 2 if i < 3 else 1])\n",
    "\n",
    "# create one discrete surface, with its bounding curves\n",
    "gmsh.model.addDiscreteEntity(2, 1, [1, 2, -3, -4])\n",
    "\n",
    "# add all the nodes on the surface (for simplicity... see below)\n",
    "gmsh.model.mesh.addNodes(2, 1, nodes, coords)"
   ]
  },
  {
   "cell_type": "code",
   "execution_count": 7,
   "id": "54b9ca1d",
   "metadata": {},
   "outputs": [
    {
     "name": "stdout",
     "output_type": "stream",
     "text": [
      "Info    : Creating geometry of discrete curves...\n",
      "Info    : Done creating geometry of discrete curves (Wall 1.5789e-05s, CPU 1.2e-05s)\n",
      "Info    : Creating geometry of discrete surfaces...\n",
      "Info    : Done creating geometry of discrete surfaces (Wall 0.267862s, CPU 0.913551s)\n"
     ]
    }
   ],
   "source": [
    "# add elements on the 4 points, the 4 curves and the surface\n",
    "for i in range(4):\n",
    "    # type 15 for point elements:\n",
    "    gmsh.model.mesh.addElementsByType(i + 1, 15, [], [pnt[i]])\n",
    "    # type 1 for 2-node line elements:\n",
    "    gmsh.model.mesh.addElementsByType(i + 1, 1, [], lin[i])\n",
    "# type 2 for 3-node triangle elements:\n",
    "gmsh.model.mesh.addElementsByType(1, 2, [], tris)\n",
    "\n",
    "# reclassify the nodes on the curves and the points (since we put them all on\n",
    "# the surface before for simplicity)\n",
    "gmsh.model.mesh.reclassifyNodes()\n",
    "\n",
    "# note that for more complicated meshes, e.g. for on input unstructured STL, we\n",
    "# could use gmsh.model.mesh.classifySurfaces() to automatically create the\n",
    "# discrete entities and the topology; but we would have to extract the\n",
    "# boundaries afterwards\n",
    "\n",
    "# create a geometry for the discrete curves and surfaces, so that we can remesh\n",
    "# them\n",
    "gmsh.model.mesh.createGeometry()"
   ]
  },
  {
   "cell_type": "code",
   "execution_count": 8,
   "id": "87679f6d",
   "metadata": {},
   "outputs": [],
   "source": [
    "gmsh.model.geo.synchronize()\n"
   ]
  },
  {
   "cell_type": "code",
   "execution_count": 9,
   "id": "26a7633d",
   "metadata": {},
   "outputs": [
    {
     "name": "stdout",
     "output_type": "stream",
     "text": [
      "-------------------------------------------------------\n",
      "Version       : 4.10.1\n",
      "License       : GNU General Public License\n",
      "Build OS      : Linux64-sdk\n",
      "Build date    : 20220501\n",
      "Build host    : gmsh.info\n",
      "Build options : 64Bit ALGLIB[contrib] ANN[contrib] Bamg Blas[petsc] Blossom Cgns DIntegration Dlopen DomHex Eigen[contrib] Fltk Gmm[contrib] Hxt Jpeg Kbipack Lapack[petsc] LinuxJoystick MathEx[contrib] Med Mesh Metis[contrib] Mmg Mpeg Netgen ONELAB ONELABMetamodel OpenCASCADE OpenCASCADE-CAF OpenGL OpenMP OptHom PETSc Parser Plugins Png Post QuadMeshingTools QuadTri Solver TetGen/BR Voro++[contrib] WinslowUntangler Zlib\n",
      "FLTK version  : 1.4.0\n",
      "PETSc version : 3.14.4 (real arithmtic)\n",
      "OCC version   : 7.6.1\n",
      "MED version   : 4.1.0\n",
      "Packaged by   : geuzaine\n",
      "Web site      : https://gmsh.info\n",
      "Issue tracker : https://gitlab.onelab.info/gmsh/gmsh/issues\n",
      "-------------------------------------------------------\n"
     ]
    }
   ],
   "source": [
    "gmsh.fltk.run()\n"
   ]
  },
  {
   "cell_type": "code",
   "execution_count": null,
   "id": "55e41a45",
   "metadata": {},
   "outputs": [],
   "source": []
  }
 ],
 "metadata": {
  "kernelspec": {
   "display_name": "Python 3 (ipykernel)",
   "language": "python",
   "name": "python3"
  },
  "language_info": {
   "codemirror_mode": {
    "name": "ipython",
    "version": 3
   },
   "file_extension": ".py",
   "mimetype": "text/x-python",
   "name": "python",
   "nbconvert_exporter": "python",
   "pygments_lexer": "ipython3",
   "version": "3.10.4"
  }
 },
 "nbformat": 4,
 "nbformat_minor": 5
}
