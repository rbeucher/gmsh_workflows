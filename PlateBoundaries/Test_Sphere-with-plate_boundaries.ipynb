{
 "cells": [
  {
   "cell_type": "code",
   "execution_count": 1,
   "id": "c2123a06",
   "metadata": {},
   "outputs": [],
   "source": [
    "import geopandas"
   ]
  },
  {
   "cell_type": "code",
   "execution_count": 2,
   "id": "242a56d2",
   "metadata": {},
   "outputs": [],
   "source": [
    "df = geopandas.read_file(\"global_tectonics/plates&provinces/boundaries.shp\")\n",
    "#df = geopandas.read_file(\"tectonicplates/PB2002_boundaries.shp\")"
   ]
  },
  {
   "cell_type": "code",
   "execution_count": 3,
   "id": "80c6b5fa",
   "metadata": {},
   "outputs": [],
   "source": [
    "geometries = df[\"geometry\"]"
   ]
  },
  {
   "cell_type": "code",
   "execution_count": 4,
   "id": "c61a2e35",
   "metadata": {},
   "outputs": [],
   "source": [
    "simple_geom = [geom for geom in geometries if geom.geom_type == \"LineString\"]\n",
    "multi_geom = [geom for geom in geometries if geom.geom_type != \"LineString\"]"
   ]
  },
  {
   "cell_type": "code",
   "execution_count": 5,
   "id": "da9521c1",
   "metadata": {},
   "outputs": [],
   "source": [
    "combine = []\n",
    "\n",
    "for mgeom in multi_geom:\n",
    "    combine += list(mgeom.geoms)  "
   ]
  },
  {
   "cell_type": "code",
   "execution_count": 6,
   "id": "36c741be",
   "metadata": {},
   "outputs": [],
   "source": [
    "geometries = simple_geom + combine"
   ]
  },
  {
   "cell_type": "code",
   "execution_count": 7,
   "id": "caa10754",
   "metadata": {},
   "outputs": [],
   "source": [
    "from pyproj import Proj\n",
    "to_stereographic = Proj(\"+proj=stere +lat_0=90 +R=1.0 +lat_ts=0\")"
   ]
  },
  {
   "cell_type": "markdown",
   "id": "fea64150",
   "metadata": {},
   "source": [
    "## GMSH"
   ]
  },
  {
   "cell_type": "code",
   "execution_count": 8,
   "id": "328579da",
   "metadata": {},
   "outputs": [],
   "source": [
    "import gmsh"
   ]
  },
  {
   "cell_type": "code",
   "execution_count": 9,
   "id": "050a199b",
   "metadata": {},
   "outputs": [],
   "source": [
    "gmsh.initialize()"
   ]
  },
  {
   "cell_type": "code",
   "execution_count": 10,
   "id": "8c84d164",
   "metadata": {},
   "outputs": [],
   "source": [
    "gmsh.model.add(\"Sphere\")"
   ]
  },
  {
   "cell_type": "code",
   "execution_count": 11,
   "id": "ad4cfba5",
   "metadata": {},
   "outputs": [],
   "source": [
    "lc = 0.1\n",
    "\n",
    "pt1 = gmsh.model.geo.add_point(0,0,0, meshSize=lc)\n",
    "pt2 = gmsh.model.geo.add_point(1,0,0, meshSize=lc)\n",
    "pt3 = gmsh.model.geo.add_point(-1,0,0, meshSize=lc)\n",
    "pt4 = gmsh.model.geo.add_point(0,-1,0, meshSize=lc)\n",
    "pt5 = gmsh.model.geo.add_point(0,1,0, meshSize=lc)\n",
    "pt6 = gmsh.model.geo.add_point(0,0,1, meshSize=lc)\n",
    "pt7 = gmsh.model.geo.add_point(0,0,-1, meshSize=lc)"
   ]
  },
  {
   "cell_type": "code",
   "execution_count": 12,
   "id": "8295a1d9",
   "metadata": {},
   "outputs": [],
   "source": [
    "circle1 = gmsh.model.geo.add_circle_arc(2, 1, 4)\n",
    "circle2 = gmsh.model.geo.add_circle_arc(4, 1, 3)\n",
    "circle3 = gmsh.model.geo.add_circle_arc(3, 1, 5)\n",
    "circle4 = gmsh.model.geo.add_circle_arc(5, 1, 2)\n",
    "circle5 = gmsh.model.geo.add_circle_arc(2, 1, 6)\n",
    "circle6 = gmsh.model.geo.add_circle_arc(6, 1, 3)\n",
    "circle7 = gmsh.model.geo.add_circle_arc(3, 1, 7)\n",
    "circle8 = gmsh.model.geo.add_circle_arc(7, 1, 2)\n",
    "circle9 = gmsh.model.geo.add_circle_arc(4, 1, 6)\n",
    "circle10 = gmsh.model.geo.add_circle_arc(6, 1, 5)\n",
    "circle11 = gmsh.model.geo.add_circle_arc(5, 1, 7)\n",
    "circle12 = gmsh.model.geo.add_circle_arc(7, 1, 4)"
   ]
  },
  {
   "cell_type": "code",
   "execution_count": 13,
   "id": "cfdd79c0",
   "metadata": {},
   "outputs": [],
   "source": [
    "loop14 = gmsh.model.geo.add_curve_loop([2, 7, 12])\n",
    "surf1 = gmsh.model.geo.add_surface_filling([loop14])\n",
    "loop16 = gmsh.model.geo.add_curve_loop([2, -6, -9])\n",
    "surf2 = gmsh.model.geo.add_surface_filling([loop16])\n",
    "loop18 = gmsh.model.geo.add_curve_loop([3, -10, 6])\n",
    "surf3 = gmsh.model.geo.add_surface_filling([loop18])\n",
    "loop20 = gmsh.model.geo.add_curve_loop([3, 11, -7])\n",
    "surf4 = gmsh.model.geo.add_surface_filling([loop20])\n",
    "loop22 = gmsh.model.geo.add_curve_loop([4, -8, -11])\n",
    "surf5 = gmsh.model.geo.add_surface_filling([loop22])\n",
    "loop24 = gmsh.model.geo.add_curve_loop([4, 5, 10])\n",
    "surf6 = gmsh.model.geo.add_surface_filling([loop24])\n",
    "loop26 = gmsh.model.geo.add_curve_loop([1, 9, -5])\n",
    "surf7 = gmsh.model.geo.add_surface_filling([loop26])\n",
    "loop28 = gmsh.model.geo.add_curve_loop([1, -12, 8])\n",
    "surf8 = gmsh.model.geo.add_surface_filling([loop28])"
   ]
  },
  {
   "cell_type": "code",
   "execution_count": 14,
   "id": "a995feb1",
   "metadata": {},
   "outputs": [],
   "source": [
    "sphere = gmsh.model.geo.add_geometry('PolarSphere', [0., 0., 0., 1.0])"
   ]
  },
  {
   "cell_type": "code",
   "execution_count": 15,
   "id": "be4e7003",
   "metadata": {},
   "outputs": [],
   "source": [
    "import numpy as np\n",
    "\n",
    "def create_surface_from_geometry(geometry):\n",
    "\n",
    "    coords = list(geometry.coords)\n",
    "    coords_lon_lat_degrees = np.array(coords)\n",
    "    \n",
    "    x, y = to_stereographic(coords_lon_lat_degrees[:,0], \n",
    "                            coords_lon_lat_degrees[:,1])\n",
    "    \n",
    "    coords_stereographic = np.zeros_like(coords)\n",
    "    coords_stereographic[:, 0] = x\n",
    "    coords_stereographic[:, 1] = y\n",
    "    \n",
    "    ## Add points\n",
    "    \n",
    "    point_tags = []\n",
    "\n",
    "    # Here we account for the fact that, in a polygon shapefile, the first and\n",
    "    # last node of a polygon are the same.\n",
    "    for index in range(len(coords_stereographic) - 1):\n",
    "        x = coords_stereographic[index, 0]\n",
    "        y = coords_stereographic[index, 1]\n",
    "        tag = gmsh.model.geo.add_point_on_geometry(sphere, x, y)\n",
    "        point_tags.append(tag)\n",
    "        \n",
    "    point_tags = point_tags + [point_tags[0]]\n",
    "    \n",
    "    ## Add lines\n",
    "    \n",
    "    line_tags = []\n",
    "\n",
    "    for index in range(len(point_tags) - 1):\n",
    "        pt1, pt2 = point_tags[index], point_tags[index + 1]\n",
    "        tag = gmsh.model.geo.add_line(pt1, pt2)\n",
    "        line_tags.append(tag)\n",
    "    \n",
    "    cl1 = gmsh.model.geo.add_curve_loop(line_tags)\n",
    "    return line_tags\n",
    "    #gmsh.model.geo.add_plane_surface([cl1])"
   ]
  },
  {
   "cell_type": "code",
   "execution_count": 16,
   "id": "ff90ce7f",
   "metadata": {},
   "outputs": [
    {
     "name": "stderr",
     "output_type": "stream",
     "text": [
      "Warning : Start point 3974 and end point 3974 of GEO line 3979 are closer than the geometrical tolerance, at position (0.0792341, -0.938891, -0.33497)\n",
      "Warning : Start point 4051 and end point 4051 of GEO line 4056 are closer than the geometrical tolerance, at position (0.00575467, -0.970729, -0.24011)\n",
      "Warning : Start point 4061 and end point 4061 of GEO line 4066 are closer than the geometrical tolerance, at position (0.00906582, -0.962437, -0.271353)\n",
      "Warning : Start point 5051 and end point 5051 of GEO line 5056 are closer than the geometrical tolerance, at position (-0.702082, -0.287759, 0.651365)\n",
      "Warning : Start point 5782 and end point 5782 of GEO line 5787 are closer than the geometrical tolerance, at position (8.52088e-06, -0.410419, 0.911897)\n",
      "Warning : Start point 6628 and end point 6628 of GEO line 6633 are closer than the geometrical tolerance, at position (-0.700084, -0.710128, -0.0748386)\n",
      "Warning : Start point 7018 and end point 7018 of GEO line 7023 are closer than the geometrical tolerance, at position (-0.509293, 0.585843, 0.630404)\n",
      "Warning : Start point 7019 and end point 7019 of GEO line 7024 are closer than the geometrical tolerance, at position (-0.474999, 0.658815, 0.583385)\n",
      "Warning : Start point 7739 and end point 7739 of GEO line 7744 are closer than the geometrical tolerance, at position (-0.691721, 0.146518, 0.707146)\n",
      "Warning : Start point 7742 and end point 7742 of GEO line 7747 are closer than the geometrical tolerance, at position (-0.696728, 0.161403, 0.698941)\n",
      "Warning : Start point 9155 and end point 9155 of GEO line 9160 are closer than the geometrical tolerance, at position (-0.420344, -0.898441, -0.126941)\n",
      "Warning : Start point 9456 and end point 9456 of GEO line 9461 are closer than the geometrical tolerance, at position (0.0661462, -0.940979, -0.331939)\n",
      "Warning : Start point 9613 and end point 9613 of GEO line 9618 are closer than the geometrical tolerance, at position (-0.545457, -0.616701, 0.567588)\n",
      "Warning : Start point 9624 and end point 9624 of GEO line 9629 are closer than the geometrical tolerance, at position (-0.786606, -0.616137, -0.0403204)\n",
      "Warning : Start point 9625 and end point 9625 of GEO line 9630 are closer than the geometrical tolerance, at position (-0.793587, -0.607607, -0.0321417)\n",
      "Warning : Start point 9666 and end point 9666 of GEO line 9671 are closer than the geometrical tolerance, at position (-0.810481, -0.476286, 0.340987)\n",
      "Warning : Start point 10138 and end point 10138 of GEO line 10143 are closer than the geometrical tolerance, at position (0.626092, -0.43403, 0.647786)\n",
      "Warning : Start point 11018 and end point 11018 of GEO line 11023 are closer than the geometrical tolerance, at position (-0.00224388, -0.793607, -0.608426)\n"
     ]
    }
   ],
   "source": [
    "line_tags = []\n",
    "\n",
    "for geometry in geometries:\n",
    "    line_tags += create_surface_from_geometry(geometry)"
   ]
  },
  {
   "cell_type": "code",
   "execution_count": 17,
   "id": "75aeb22a",
   "metadata": {},
   "outputs": [],
   "source": [
    "gmsh.model.geo.synchronize()"
   ]
  },
  {
   "cell_type": "code",
   "execution_count": 18,
   "id": "f8d3b440",
   "metadata": {},
   "outputs": [],
   "source": [
    "gmsh.model.mesh.field.add(\"Distance\", 1)\n",
    "gmsh.model.mesh.field.setNumbers(1, \"CurvesList\", line_tags)\n",
    "\n",
    "\n",
    "gmsh.model.mesh.field.add(\"Threshold\", 2)\n",
    "gmsh.model.mesh.field.setNumber(2, \"InField\", 1)\n",
    "gmsh.model.mesh.field.setNumber(2, \"SizeMin\", 0.01)\n",
    "gmsh.model.mesh.field.setNumber(2, \"SizeMax\", 0.1)\n",
    "gmsh.model.mesh.field.setNumber(2, \"DistMin\", 0.01)\n",
    "gmsh.model.mesh.field.setNumber(2, \"DistMax\", 0.2)\n",
    "\n",
    "gmsh.model.mesh.field.setAsBackgroundMesh(2)"
   ]
  },
  {
   "cell_type": "code",
   "execution_count": 19,
   "id": "784d7982",
   "metadata": {},
   "outputs": [
    {
     "name": "stdout",
     "output_type": "stream",
     "text": [
      "Info    : Writing 'Model.vtk'...\n",
      "Info    : Done writing 'Model.vtk'\n"
     ]
    }
   ],
   "source": [
    "gmsh.write(\"Model.vtk\")"
   ]
  },
  {
   "cell_type": "code",
   "execution_count": 20,
   "id": "18c545c0",
   "metadata": {},
   "outputs": [
    {
     "name": "stdout",
     "output_type": "stream",
     "text": [
      "-------------------------------------------------------\n",
      "Version       : 4.10.1\n",
      "License       : GNU General Public License\n",
      "Build OS      : Linux64-sdk\n",
      "Build date    : 20220501\n",
      "Build host    : gmsh.info\n",
      "Build options : 64Bit ALGLIB[contrib] ANN[contrib] Bamg Blas[petsc] Blossom Cgns DIntegration Dlopen DomHex Eigen[contrib] Fltk Gmm[contrib] Hxt Jpeg Kbipack Lapack[petsc] LinuxJoystick MathEx[contrib] Med Mesh Metis[contrib] Mmg Mpeg Netgen ONELAB ONELABMetamodel OpenCASCADE OpenCASCADE-CAF OpenGL OpenMP OptHom PETSc Parser Plugins Png Post QuadMeshingTools QuadTri Solver TetGen/BR Voro++[contrib] WinslowUntangler Zlib\n",
      "FLTK version  : 1.4.0\n",
      "PETSc version : 3.14.4 (real arithmtic)\n",
      "OCC version   : 7.6.1\n",
      "MED version   : 4.1.0\n",
      "Packaged by   : geuzaine\n",
      "Web site      : https://gmsh.info\n",
      "Issue tracker : https://gitlab.onelab.info/gmsh/gmsh/issues\n",
      "-------------------------------------------------------\n"
     ]
    }
   ],
   "source": [
    "gmsh.fltk.run()"
   ]
  },
  {
   "cell_type": "code",
   "execution_count": null,
   "id": "bdf81b84",
   "metadata": {},
   "outputs": [],
   "source": []
  }
 ],
 "metadata": {
  "kernelspec": {
   "display_name": "Python 3 (ipykernel)",
   "language": "python",
   "name": "python3"
  },
  "language_info": {
   "codemirror_mode": {
    "name": "ipython",
    "version": 3
   },
   "file_extension": ".py",
   "mimetype": "text/x-python",
   "name": "python",
   "nbconvert_exporter": "python",
   "pygments_lexer": "ipython3",
   "version": "3.10.4"
  }
 },
 "nbformat": 4,
 "nbformat_minor": 5
}
