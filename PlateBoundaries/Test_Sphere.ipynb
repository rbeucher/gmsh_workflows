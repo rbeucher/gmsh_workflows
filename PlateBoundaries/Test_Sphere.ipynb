{
 "cells": [
  {
   "cell_type": "code",
   "execution_count": 1,
   "id": "328579da",
   "metadata": {},
   "outputs": [],
   "source": [
    "import gmsh"
   ]
  },
  {
   "cell_type": "code",
   "execution_count": 2,
   "id": "050a199b",
   "metadata": {},
   "outputs": [],
   "source": [
    "gmsh.initialize()"
   ]
  },
  {
   "cell_type": "code",
   "execution_count": 3,
   "id": "8c84d164",
   "metadata": {},
   "outputs": [],
   "source": [
    "gmsh.model.add(\"Sphere\")"
   ]
  },
  {
   "cell_type": "code",
   "execution_count": 4,
   "id": "ad4cfba5",
   "metadata": {},
   "outputs": [],
   "source": [
    "pt1 = gmsh.model.geo.add_point(0,0,0, meshSize=1.)\n",
    "pt2 = gmsh.model.geo.add_point(10,0,0, meshSize=1.)\n",
    "pt3 = gmsh.model.geo.add_point(-10,0,0, meshSize=1.)\n",
    "pt4 = gmsh.model.geo.add_point(0,-10,0, meshSize=1.)\n",
    "pt5 = gmsh.model.geo.add_point(0,10,0, meshSize=1.)\n",
    "pt6 = gmsh.model.geo.add_point(0,0,10, meshSize=1.)\n",
    "pt7 = gmsh.model.geo.add_point(0,0,-10, meshSize=1.)"
   ]
  },
  {
   "cell_type": "code",
   "execution_count": 5,
   "id": "8295a1d9",
   "metadata": {},
   "outputs": [],
   "source": [
    "circle1 = gmsh.model.geo.add_circle_arc(2, 1, 4)\n",
    "circle2 = gmsh.model.geo.add_circle_arc(4, 1, 3)\n",
    "circle3 = gmsh.model.geo.add_circle_arc(3, 1, 5)\n",
    "circle4 = gmsh.model.geo.add_circle_arc(5, 1, 2)\n",
    "circle5 = gmsh.model.geo.add_circle_arc(2, 1, 6)\n",
    "circle6 = gmsh.model.geo.add_circle_arc(6, 1, 3)\n",
    "circle7 = gmsh.model.geo.add_circle_arc(3, 1, 7)\n",
    "circle8 = gmsh.model.geo.add_circle_arc(7, 1, 2)\n",
    "circle9 = gmsh.model.geo.add_circle_arc(4, 1, 6)\n",
    "circle10 = gmsh.model.geo.add_circle_arc(6, 1, 5)\n",
    "circle11 = gmsh.model.geo.add_circle_arc(5, 1, 7)\n",
    "circle12 = gmsh.model.geo.add_circle_arc(7, 1, 4)"
   ]
  },
  {
   "cell_type": "code",
   "execution_count": 6,
   "id": "cfdd79c0",
   "metadata": {},
   "outputs": [],
   "source": [
    "loop14 = gmsh.model.geo.add_curve_loop([2, 7, 12])\n",
    "surf1 = gmsh.model.geo.add_surface_filling([loop14])\n",
    "loop16 = gmsh.model.geo.add_curve_loop([2, -6, -9])\n",
    "surf2 = gmsh.model.geo.add_surface_filling([loop16])\n",
    "loop18 = gmsh.model.geo.add_curve_loop([3, -10, 6])\n",
    "surf3 = gmsh.model.geo.add_surface_filling([loop18])\n",
    "loop20 = gmsh.model.geo.add_curve_loop([3, 11, -7])\n",
    "surf4 = gmsh.model.geo.add_surface_filling([loop20])\n",
    "loop22 = gmsh.model.geo.add_curve_loop([4, -8, -11])\n",
    "surf5 = gmsh.model.geo.add_surface_filling([loop22])\n",
    "loop24 = gmsh.model.geo.add_curve_loop([4, 5, 10])\n",
    "surf6 = gmsh.model.geo.add_surface_filling([loop24])\n",
    "loop26 = gmsh.model.geo.add_curve_loop([1, 9, -5])\n",
    "surf7 = gmsh.model.geo.add_surface_filling([loop26])\n",
    "loop28 = gmsh.model.geo.add_curve_loop([1, -12, 8])\n",
    "surf8 = gmsh.model.geo.add_surface_filling([loop28])"
   ]
  },
  {
   "cell_type": "code",
   "execution_count": 10,
   "id": "75aeb22a",
   "metadata": {},
   "outputs": [],
   "source": [
    "gmsh.model.geo.synchronize()"
   ]
  },
  {
   "cell_type": "code",
   "execution_count": 11,
   "id": "18c545c0",
   "metadata": {},
   "outputs": [
    {
     "name": "stdout",
     "output_type": "stream",
     "text": [
      "-------------------------------------------------------\n",
      "Version       : 4.10.1\n",
      "License       : GNU General Public License\n",
      "Build OS      : Linux64-sdk\n",
      "Build date    : 20220501\n",
      "Build host    : gmsh.info\n",
      "Build options : 64Bit ALGLIB[contrib] ANN[contrib] Bamg Blas[petsc] Blossom Cgns DIntegration Dlopen DomHex Eigen[contrib] Fltk Gmm[contrib] Hxt Jpeg Kbipack Lapack[petsc] LinuxJoystick MathEx[contrib] Med Mesh Metis[contrib] Mmg Mpeg Netgen ONELAB ONELABMetamodel OpenCASCADE OpenCASCADE-CAF OpenGL OpenMP OptHom PETSc Parser Plugins Png Post QuadMeshingTools QuadTri Solver TetGen/BR Voro++[contrib] WinslowUntangler Zlib\n",
      "FLTK version  : 1.4.0\n",
      "PETSc version : 3.14.4 (real arithmtic)\n",
      "OCC version   : 7.6.1\n",
      "MED version   : 4.1.0\n",
      "Packaged by   : geuzaine\n",
      "Web site      : https://gmsh.info\n",
      "Issue tracker : https://gitlab.onelab.info/gmsh/gmsh/issues\n",
      "-------------------------------------------------------\n",
      "Info    : Meshing 1D...\n",
      "Info    : [  0%] Meshing curve 1 (Circle)\n",
      "Info    : [ 10%] Meshing curve 2 (Circle)\n",
      "Info    : [ 20%] Meshing curve 3 (Circle)\n",
      "Info    : [ 30%] Meshing curve 4 (Circle)\n",
      "Info    : [ 40%] Meshing curve 5 (Circle)\n",
      "Info    : [ 50%] Meshing curve 6 (Circle)\n",
      "Info    : [ 50%] Meshing curve 7 (Circle)\n",
      "Info    : [ 60%] Meshing curve 8 (Circle)\n",
      "Info    : [ 70%] Meshing curve 9 (Circle)\n",
      "Info    : [ 80%] Meshing curve 10 (Circle)\n",
      "Info    : [ 90%] Meshing curve 11 (Circle)\n",
      "Info    : [100%] Meshing curve 12 (Circle)\n",
      "Info    : Done meshing 1D (Wall 0.00204845s, CPU 0.001953s)\n",
      "Info    : 187 nodes 199 elements\n",
      "Info    : Meshing 1D...\n",
      "Info    : [  0%] Meshing curve 1 (Circle)\n",
      "Info    : [ 10%] Meshing curve 2 (Circle)\n",
      "Info    : [ 20%] Meshing curve 3 (Circle)\n",
      "Info    : [ 30%] Meshing curve 4 (Circle)\n",
      "Info    : [ 40%] Meshing curve 5 (Circle)\n",
      "Info    : [ 50%] Meshing curve 6 (Circle)\n",
      "Info    : [ 50%] Meshing curve 7 (Circle)\n",
      "Info    : [ 60%] Meshing curve 8 (Circle)\n",
      "Info    : [ 70%] Meshing curve 9 (Circle)\n",
      "Info    : [ 80%] Meshing curve 10 (Circle)\n",
      "Info    : [ 90%] Meshing curve 11 (Circle)\n",
      "Info    : [100%] Meshing curve 12 (Circle)\n",
      "Info    : Done meshing 1D (Wall 0.00299599s, CPU 0.003836s)\n",
      "Info    : 187 nodes 199 elements\n",
      "Info    : Meshing 2D...\n",
      "Info    : [  0%] Meshing surface 1 (Surface, Frontal-Delaunay)\n",
      "Info    : [ 20%] Meshing surface 2 (Surface, Frontal-Delaunay)\n",
      "Info    : [ 30%] Meshing surface 3 (Surface, Frontal-Delaunay)\n",
      "Info    : [ 40%] Meshing surface 4 (Surface, Frontal-Delaunay)\n",
      "Info    : [ 50%] Meshing surface 5 (Surface, Frontal-Delaunay)\n",
      "Info    : [ 70%] Meshing surface 6 (Surface, Frontal-Delaunay)\n",
      "Info    : [ 80%] Meshing surface 7 (Surface, Frontal-Delaunay)\n",
      "Info    : [ 90%] Meshing surface 8 (Surface, Frontal-Delaunay)\n",
      "Info    : Done meshing 2D (Wall 0.1079s, CPU 0.108322s)\n",
      "Info    : 1601 nodes 3395 elements\n",
      "Info    : Meshing 2D...\n",
      "Info    : [  0%] Meshing surface 1 (Surface, Frontal-Delaunay)\n",
      "Info    : [ 20%] Meshing surface 2 (Surface, Frontal-Delaunay)\n",
      "Info    : [ 30%] Meshing surface 3 (Surface, Frontal-Delaunay)\n",
      "Info    : [ 40%] Meshing surface 4 (Surface, Frontal-Delaunay)\n",
      "Info    : [ 50%] Meshing surface 5 (Surface, Frontal-Delaunay)\n",
      "Info    : [ 70%] Meshing surface 6 (Surface, Frontal-Delaunay)\n",
      "Info    : [ 80%] Meshing surface 7 (Surface, Frontal-Delaunay)\n",
      "Info    : [ 90%] Meshing surface 8 (Surface, Frontal-Delaunay)\n",
      "Info    : Done meshing 2D (Wall 0.0826139s, CPU 0.083652s)\n",
      "Info    : 1601 nodes 3395 elements\n"
     ]
    }
   ],
   "source": [
    "gmsh.fltk.run()"
   ]
  }
 ],
 "metadata": {
  "kernelspec": {
   "display_name": "Python 3 (ipykernel)",
   "language": "python",
   "name": "python3"
  },
  "language_info": {
   "codemirror_mode": {
    "name": "ipython",
    "version": 3
   },
   "file_extension": ".py",
   "mimetype": "text/x-python",
   "name": "python",
   "nbconvert_exporter": "python",
   "pygments_lexer": "ipython3",
   "version": "3.10.4"
  }
 },
 "nbformat": 4,
 "nbformat_minor": 5
}
