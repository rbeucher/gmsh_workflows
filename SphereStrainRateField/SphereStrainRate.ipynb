{
 "cells": [
  {
   "cell_type": "code",
   "execution_count": 1,
   "id": "bbdfc2ed",
   "metadata": {},
   "outputs": [],
   "source": [
    "import gmsh"
   ]
  },
  {
   "cell_type": "code",
   "execution_count": 2,
   "id": "ad4d9747",
   "metadata": {},
   "outputs": [],
   "source": [
    "gmsh.initialize()\n",
    "gmsh.option.setNumber(\"General.Verbosity\", 0)"
   ]
  },
  {
   "cell_type": "code",
   "execution_count": 3,
   "id": "181b5937",
   "metadata": {},
   "outputs": [],
   "source": [
    "gmsh.model.add(\"Sphere\")\n",
    "gmsh.option.setNumber(\"Mesh.LcIntegrationPrecision\", 1e-3)\n",
    "gmsh.option.setNumber(\"Mesh.CharacteristicLengthExtendFromBoundary\", 0)\n",
    "gmsh.option.setNumber(\"Mesh.CharacteristicLengthMax\", 0.05)"
   ]
  },
  {
   "cell_type": "code",
   "execution_count": 4,
   "id": "4e75869e",
   "metadata": {},
   "outputs": [
    {
     "data": {
      "text/plain": [
       "1"
      ]
     },
     "execution_count": 4,
     "metadata": {},
     "output_type": "execute_result"
    }
   ],
   "source": [
    "gmsh.model.occ.addSphere(0, 0, 0, 1)"
   ]
  },
  {
   "cell_type": "code",
   "execution_count": 5,
   "id": "35f25bfe",
   "metadata": {},
   "outputs": [],
   "source": [
    "gmsh.model.occ.synchronize()"
   ]
  },
  {
   "cell_type": "code",
   "execution_count": 6,
   "id": "65852f8b",
   "metadata": {},
   "outputs": [],
   "source": [
    "surface = gmsh.model.getEntities(2)[0]"
   ]
  },
  {
   "cell_type": "code",
   "execution_count": 7,
   "id": "60b816b2",
   "metadata": {},
   "outputs": [],
   "source": [
    "gmsh.model.addPhysicalGroup(surface[0], [surface[1]], 1)\n",
    "gmsh.model.setPhysicalName(surface[1], 1, \"Surface\")"
   ]
  },
  {
   "cell_type": "code",
   "execution_count": 8,
   "id": "75255fe2",
   "metadata": {},
   "outputs": [],
   "source": [
    "gmsh.model.occ.synchronize()\n"
   ]
  },
  {
   "cell_type": "code",
   "execution_count": 9,
   "id": "20e19abd",
   "metadata": {},
   "outputs": [],
   "source": [
    "gmsh.model.mesh.generate(2) "
   ]
  },
  {
   "cell_type": "code",
   "execution_count": 10,
   "id": "b86497e4",
   "metadata": {},
   "outputs": [],
   "source": [
    "gmsh.write(\"sphere.msh\")"
   ]
  },
  {
   "cell_type": "code",
   "execution_count": 11,
   "id": "e5a4b679",
   "metadata": {},
   "outputs": [],
   "source": [
    "gmsh.write(\"sphere.vtk\")"
   ]
  },
  {
   "cell_type": "code",
   "execution_count": 12,
   "id": "6d1aa470",
   "metadata": {},
   "outputs": [],
   "source": [
    "gmsh.finalize()"
   ]
  },
  {
   "cell_type": "markdown",
   "id": "5c037f56",
   "metadata": {},
   "source": [
    "# Attempt one"
   ]
  },
  {
   "cell_type": "code",
   "execution_count": 13,
   "id": "7ebfd1f9",
   "metadata": {},
   "outputs": [],
   "source": [
    "import numpy as np"
   ]
  },
  {
   "cell_type": "code",
   "execution_count": 14,
   "id": "65e6699d",
   "metadata": {},
   "outputs": [],
   "source": [
    "indata = np.loadtxt(\"sec_invariant_strain_0.2.dat\")"
   ]
  },
  {
   "cell_type": "code",
   "execution_count": 15,
   "id": "25f0a9a7",
   "metadata": {},
   "outputs": [],
   "source": [
    "lon = np.arange(-180, 180, 0.2)\n",
    "lat = np.arange(-90, 90.2, 0.2)"
   ]
  },
  {
   "cell_type": "code",
   "execution_count": 16,
   "id": "cfd82938",
   "metadata": {},
   "outputs": [],
   "source": [
    "x, y = np.meshgrid(lon, lat)"
   ]
  },
  {
   "cell_type": "code",
   "execution_count": 17,
   "id": "29c0b899",
   "metadata": {},
   "outputs": [],
   "source": [
    "data = np.zeros((901, 1800, 3))\n",
    "data[:, :, 0] = x\n",
    "data[:,:, 1] = y"
   ]
  },
  {
   "cell_type": "code",
   "execution_count": 18,
   "id": "1deeecb0",
   "metadata": {},
   "outputs": [],
   "source": [
    "indata = indata.reshape((741, 1800, 3))"
   ]
  },
  {
   "cell_type": "code",
   "execution_count": 19,
   "id": "7e10dccb",
   "metadata": {},
   "outputs": [],
   "source": [
    "data[110:-50,:,:] = indata"
   ]
  },
  {
   "cell_type": "code",
   "execution_count": 20,
   "id": "06ad84a9",
   "metadata": {},
   "outputs": [],
   "source": [
    "data = np.transpose(data, axes=[1, 0, 2])"
   ]
  },
  {
   "cell_type": "code",
   "execution_count": 21,
   "id": "1217af89",
   "metadata": {},
   "outputs": [
    {
     "data": {
      "text/plain": [
       "array([-180. , -180. , -180. , ...,  179.8,  179.8,  179.8])"
      ]
     },
     "execution_count": 21,
     "metadata": {},
     "output_type": "execute_result"
    }
   ],
   "source": [
    "data[:,:, 0].flatten()"
   ]
  },
  {
   "cell_type": "code",
   "execution_count": 22,
   "id": "76b4b132",
   "metadata": {},
   "outputs": [
    {
     "data": {
      "text/plain": [
       "(-90.0, 90.00000000000256)"
      ]
     },
     "execution_count": 22,
     "metadata": {},
     "output_type": "execute_result"
    }
   ],
   "source": [
    "data[:,:,1].min(), data[:,:, 1].max()"
   ]
  },
  {
   "cell_type": "code",
   "execution_count": 23,
   "id": "9d3a7120",
   "metadata": {},
   "outputs": [],
   "source": [
    "import matplotlib.pyplot as plt\n",
    "from matplotlib.colors import LogNorm"
   ]
  },
  {
   "cell_type": "code",
   "execution_count": 24,
   "id": "48ab29d9",
   "metadata": {},
   "outputs": [
    {
     "data": {
      "text/plain": [
       "<matplotlib.colorbar.Colorbar at 0x7fc76c042c20>"
      ]
     },
     "execution_count": 24,
     "metadata": {},
     "output_type": "execute_result"
    },
    {
     "data": {
      "image/png": "[encoded data removed]",
      "text/plain": [
       "<Figure size 432x288 with 2 Axes>"
      ]
     },
     "metadata": {
      "needs_background": "light"
     },
     "output_type": "display_data"
    }
   ],
   "source": [
    "plt.imshow(data[:,:, -1], norm=LogNorm(vmin=0.001, vmax=1))\n",
    "plt.colorbar()"
   ]
  },
  {
   "cell_type": "code",
   "execution_count": 25,
   "id": "27dccbc9",
   "metadata": {},
   "outputs": [],
   "source": [
    "xmin, xmax = data[:,:,0].min(), data[:,:,0].max()\n",
    "ymin, ymax = data[:,:,1].min(), data[:,:,1].max()"
   ]
  },
  {
   "cell_type": "code",
   "execution_count": 26,
   "id": "6832780d",
   "metadata": {},
   "outputs": [],
   "source": [
    "# value = value + 0.001 * value.max()\n",
    "# value = value / (100 * value.max())\n",
    "# value = np.log10(value)"
   ]
  },
  {
   "cell_type": "code",
   "execution_count": 27,
   "id": "9722ee09",
   "metadata": {},
   "outputs": [],
   "source": [
    "value = data[:, :, -1]\n",
    "value[value == 0] = 0.01\n",
    "value = np.log(value)\n",
    "#value - np.sqrt(value)\n",
    "#value = value + np.abs(value.min()) + 0.01\n",
    "#value = 1.0 - (value / value.max())\n",
    "#value = value + (1.0 - value.max())\n",
    "#value /= 20\n",
    "#value += 0.01\n",
    "value = 1.0 - (value - value.min()) / (value.max() - value.min()) \n",
    "value /= 20\n",
    "value += 0.01"
   ]
  },
  {
   "cell_type": "code",
   "execution_count": 28,
   "id": "175638f5",
   "metadata": {},
   "outputs": [],
   "source": [
    "value = data[:, :, -1]\n",
    "value = 0.01 + (1. - value/value.max()) * 0.2"
   ]
  },
  {
   "cell_type": "code",
   "execution_count": 29,
   "id": "72bdfed7",
   "metadata": {},
   "outputs": [
    {
     "data": {
      "text/plain": [
       "(0.01, 0.20999971996680844)"
      ]
     },
     "execution_count": 29,
     "metadata": {},
     "output_type": "execute_result"
    }
   ],
   "source": [
    "value.min(), value.max()"
   ]
  },
  {
   "cell_type": "code",
   "execution_count": 30,
   "id": "8fc1fe81",
   "metadata": {},
   "outputs": [],
   "source": [
    "import matplotlib.pyplot as plt"
   ]
  },
  {
   "cell_type": "code",
   "execution_count": 31,
   "id": "d07873d5",
   "metadata": {},
   "outputs": [
    {
     "data": {
      "text/plain": [
       "(array([6.200000e+01, 1.330000e+02, 7.200000e+01, 1.150000e+02,\n",
       "        2.270000e+02, 5.280000e+02, 1.007000e+03, 2.520000e+03,\n",
       "        9.360000e+03, 1.607776e+06]),\n",
       " array([0.01      , 0.02999997, 0.04999994, 0.06999992, 0.08999989,\n",
       "        0.10999986, 0.12999983, 0.1499998 , 0.16999978, 0.18999975,\n",
       "        0.20999972]),\n",
       " <BarContainer object of 10 artists>)"
      ]
     },
     "execution_count": 31,
     "metadata": {},
     "output_type": "execute_result"
    },
    {
     "data": {
      "image/png": "[encoded data removed]",
      "text/plain": [
       "<Figure size 432x288 with 1 Axes>"
      ]
     },
     "metadata": {
      "needs_background": "light"
     },
     "output_type": "display_data"
    }
   ],
   "source": [
    "plt.hist(value.flatten(), stacked=True)"
   ]
  },
  {
   "cell_type": "code",
   "execution_count": 32,
   "id": "054c311c",
   "metadata": {},
   "outputs": [
    {
     "data": {
      "text/plain": [
       "(0.01, 0.20999971996680844)"
      ]
     },
     "execution_count": 32,
     "metadata": {},
     "output_type": "execute_result"
    }
   ],
   "source": [
    "value.min(), value.max()"
   ]
  },
  {
   "cell_type": "code",
   "execution_count": 33,
   "id": "41980c41",
   "metadata": {},
   "outputs": [
    {
     "data": {
      "text/plain": [
       "<matplotlib.colorbar.Colorbar at 0x7fc7631522f0>"
      ]
     },
     "execution_count": 33,
     "metadata": {},
     "output_type": "execute_result"
    },
    {
     "data": {
      "image/png": "[encoded data removed]",
      "text/plain": [
       "<Figure size 432x288 with 2 Axes>"
      ]
     },
     "metadata": {
      "needs_background": "light"
     },
     "output_type": "display_data"
    }
   ],
   "source": [
    "plt.imshow(value)\n",
    "plt.colorbar()"
   ]
  },
  {
   "cell_type": "code",
   "execution_count": 34,
   "id": "1831a139",
   "metadata": {},
   "outputs": [],
   "source": [
    "Ox, Oy, Oz = np.deg2rad(xmin), np.deg2rad(ymin), 0.\n",
    "Ox, Oy, Oz = np.deg2rad(xmin), np.deg2rad(ymin), 0.\n",
    "Dx, Dy, Dz = np.deg2rad(0.2), np.deg2rad(0.2), 1.0"
   ]
  },
  {
   "cell_type": "code",
   "execution_count": 35,
   "id": "b6c6b53f",
   "metadata": {},
   "outputs": [],
   "source": [
    "with open(\"test.dat\", \"w\") as f:\n",
    "    f.write(f\"{Ox} {Oy} {Oz}\\n\")\n",
    "    f.write(f\"{Dx} {Dy} {Dz}\\n\")\n",
    "    f.write(f\"1800 901 1\\n\")"
   ]
  },
  {
   "cell_type": "code",
   "execution_count": 36,
   "id": "04b2f089",
   "metadata": {},
   "outputs": [],
   "source": [
    "with open(\"test.dat\", \"a\") as f:\n",
    "    np.savetxt(f, value.flatten(), delimiter=\"\\n\")"
   ]
  },
  {
   "cell_type": "code",
   "execution_count": 37,
   "id": "25a28b86",
   "metadata": {},
   "outputs": [
    {
     "data": {
      "text/plain": [
       "1800"
      ]
     },
     "execution_count": 37,
     "metadata": {},
     "output_type": "execute_result"
    }
   ],
   "source": [
    "len(value)"
   ]
  },
  {
   "cell_type": "code",
   "execution_count": 38,
   "id": "4ac31bc6",
   "metadata": {},
   "outputs": [
    {
     "data": {
      "text/plain": [
       "array([[0.20999931, 0.20999931, 0.20999931, ..., 0.20999931, 0.20999931,\n",
       "        0.20999931],\n",
       "       [0.20999931, 0.20999931, 0.20999931, ..., 0.20999931, 0.20999931,\n",
       "        0.20999931],\n",
       "       [0.20999931, 0.20999931, 0.20999931, ..., 0.20999931, 0.20999931,\n",
       "        0.20999931],\n",
       "       ...,\n",
       "       [0.20999931, 0.20999931, 0.20999931, ..., 0.20999931, 0.20999931,\n",
       "        0.20999931],\n",
       "       [0.20999931, 0.20999931, 0.20999931, ..., 0.20999931, 0.20999931,\n",
       "        0.20999931],\n",
       "       [0.20999931, 0.20999931, 0.20999931, ..., 0.20999931, 0.20999931,\n",
       "        0.20999931]])"
      ]
     },
     "execution_count": 38,
     "metadata": {},
     "output_type": "execute_result"
    }
   ],
   "source": [
    "value"
   ]
  },
  {
   "cell_type": "code",
   "execution_count": null,
   "id": "149ee7dc",
   "metadata": {},
   "outputs": [],
   "source": []
  },
  {
   "cell_type": "code",
   "execution_count": null,
   "id": "1390c25d",
   "metadata": {},
   "outputs": [],
   "source": []
  },
  {
   "cell_type": "code",
   "execution_count": null,
   "id": "ae90c7da",
   "metadata": {},
   "outputs": [],
   "source": []
  }
 ],
 "metadata": {
  "kernelspec": {
   "display_name": "Python 3 (ipykernel)",
   "language": "python",
   "name": "python3"
  },
  "language_info": {
   "codemirror_mode": {
    "name": "ipython",
    "version": 3
   },
   "file_extension": ".py",
   "mimetype": "text/x-python",
   "name": "python",
   "nbconvert_exporter": "python",
   "pygments_lexer": "ipython3",
   "version": "3.10.4"
  }
 },
 "nbformat": 4,
 "nbformat_minor": 5
}
