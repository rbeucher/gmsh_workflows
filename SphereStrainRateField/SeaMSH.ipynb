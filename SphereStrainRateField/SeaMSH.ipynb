{
 "cells": [
  {
   "cell_type": "code",
   "execution_count": 1,
   "id": "aa676671",
   "metadata": {},
   "outputs": [
    {
     "name": "stderr",
     "output_type": "stream",
     "text": [
      "Error   : Gmsh has not been initialized\n"
     ]
    }
   ],
   "source": [
    "import seamsh\n",
    "from seamsh.geometry import CurveType\n",
    "import seamsh.geometry\n",
    "import numpy as np\n",
    "from osgeo import osr"
   ]
  },
  {
   "cell_type": "code",
   "execution_count": 3,
   "id": "467ec401",
   "metadata": {},
   "outputs": [],
   "source": [
    "domain_srs = osr.SpatialReference()\n",
    "domain_srs.ImportFromProj4(\"+proj=utm +ellps=WGS84 +zone=31\")\n",
    "domain = seamsh.geometry.Domain(domain_srs)"
   ]
  },
  {
   "cell_type": "code",
   "execution_count": 4,
   "id": "d96f3c09",
   "metadata": {},
   "outputs": [
    {
     "name": "stdout",
     "output_type": "stream",
     "text": [
      " * Import features from \"data2/data_no_duplicate.shp\" * \n",
      "98 features imported\n"
     ]
    }
   ],
   "source": [
    "domain.add_boundary_curves_shp(\"data2/data_no_duplicate.shp\",\n",
    "                               \"physical\", CurveType.POLYLINE)"
   ]
  },
  {
   "cell_type": "code",
   "execution_count": 5,
   "id": "5476c75d",
   "metadata": {},
   "outputs": [
    {
     "name": "stdout",
     "output_type": "stream",
     "text": [
      " * Import features from \"data2/interior.shp\" * \n",
      "8 features imported\n",
      " * Import features from \"data2/interior_points.shp\" * \n",
      "3 features imported\n"
     ]
    }
   ],
   "source": [
    "domain.add_interior_curves_shp(\"data2/interior.shp\",\n",
    "                               None, CurveType.STRICTPOLYLINE)\n",
    "domain.add_interior_points_shp(\"data2/interior_points.shp\", \"physical\")"
   ]
  },
  {
   "cell_type": "code",
   "execution_count": 6,
   "id": "252fd452",
   "metadata": {},
   "outputs": [
    {
     "name": "stdout",
     "output_type": "stream",
     "text": [
      " * Create field from raster file \"data2/medit.tiff\" * \n"
     ]
    }
   ],
   "source": [
    "bath_field = seamsh.field.Raster(\"data2/medit.tiff\")"
   ]
  },
  {
   "cell_type": "code",
   "execution_count": 7,
   "id": "20246c88",
   "metadata": {},
   "outputs": [
    {
     "name": "stdout",
     "output_type": "stream",
     "text": [
      " * Create distance field * \n",
      "Sampling features for distance computation\n",
      "98 features sampled\n",
      "Build KDTree with 6824 points\n"
     ]
    }
   ],
   "source": [
    "dist_coast = seamsh.field.Distance(domain, 100, [\"coast\", \"island\"])\n"
   ]
  },
  {
   "cell_type": "code",
   "execution_count": 8,
   "id": "7709f5fd",
   "metadata": {},
   "outputs": [
    {
     "name": "stdout",
     "output_type": "stream",
     "text": [
      " * Create distance field * \n",
      "Sampling features for distance computation\n",
      "43 features sampled\n",
      "Build KDTree with 2676 points\n"
     ]
    }
   ],
   "source": [
    "dist_porquerolles = seamsh.field.Distance(domain, 20, [\"porquerolles\"])\n"
   ]
  },
  {
   "cell_type": "code",
   "execution_count": 9,
   "id": "8cd662c3",
   "metadata": {},
   "outputs": [],
   "source": [
    "def mesh_size(x, projection):\n",
    "    s_coast = np.clip((dist_coast(x, projection)-400)*0.5, 200, 5000)\n",
    "    s_porq = np.clip((dist_porquerolles(x, projection)-200)*0.5, 50, 5000)\n",
    "    s_dist = np.minimum(s_coast, s_porq)\n",
    "    return s_dist"
   ]
  },
  {
   "cell_type": "code",
   "execution_count": 10,
   "id": "c8f59777",
   "metadata": {},
   "outputs": [
    {
     "name": "stdout",
     "output_type": "stream",
     "text": [
      " * Generate mesh * \n",
      "Build topology\n",
      "Build gmsh model\n",
      "Build mesh size field\n"
     ]
    },
    {
     "name": "stderr",
     "output_type": "stream",
     "text": [
      "Warning : Start point 107 and end point 107 of GEO line 119 are closer than the geometrical tolerance, at position (740781, 4.61174e+06, 0)\n"
     ]
    },
    {
     "name": "stdout",
     "output_type": "stream",
     "text": [
      "Mesh with gmsh\n",
      "Write \"gis_mesh.msh\" (msh version 4.0)\n"
     ]
    }
   ],
   "source": [
    "output_srs = osr.SpatialReference()\n",
    "output_srs.ImportFromProj4(\"+proj=latlon +ellps=WGS84\")\n",
    "\n",
    "seamsh.gmsh.mesh(domain, \"gis_mesh.msh\", mesh_size,\n",
    "                 intermediate_file_name=\"debug\", output_srs=output_srs)"
   ]
  },
  {
   "cell_type": "code",
   "execution_count": null,
   "id": "befd98ac",
   "metadata": {},
   "outputs": [],
   "source": []
  }
 ],
 "metadata": {
  "kernelspec": {
   "display_name": "Python 3 (ipykernel)",
   "language": "python",
   "name": "python3"
  },
  "language_info": {
   "codemirror_mode": {
    "name": "ipython",
    "version": 3
   },
   "file_extension": ".py",
   "mimetype": "text/x-python",
   "name": "python",
   "nbconvert_exporter": "python",
   "pygments_lexer": "ipython3",
   "version": "3.10.4"
  }
 },
 "nbformat": 4,
 "nbformat_minor": 5
}
